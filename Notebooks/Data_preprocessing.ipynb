{
 "cells": [
  {
   "cell_type": "code",
   "execution_count": 13,
   "id": "319960e0",
   "metadata": {
    "ExecuteTime": {
     "end_time": "2024-02-28T09:56:10.122739Z",
     "start_time": "2024-02-28T09:56:10.027310Z"
    }
   },
   "outputs": [],
   "source": [
    "import pandas as pd\n",
    "import numpy as np\n",
    "from sklearn.preprocessing import LabelEncoder\n"
   ]
  },
  {
   "cell_type": "code",
   "execution_count": 14,
   "outputs": [],
   "source": [
    "df = pd.read_csv('../data/loan.csv', low_memory=False)"
   ],
   "metadata": {
    "collapsed": false,
    "ExecuteTime": {
     "end_time": "2024-02-28T09:56:20.826387Z",
     "start_time": "2024-02-28T09:56:10.034659Z"
    }
   },
   "id": "5db2b4cb228dbdd7"
  },
  {
   "cell_type": "markdown",
   "source": [
    "# 1. Exploring the Data"
   ],
   "metadata": {
    "collapsed": false
   },
   "id": "d292c057d57a730f"
  },
  {
   "cell_type": "code",
   "execution_count": 15,
   "outputs": [
    {
     "data": {
      "text/plain": "         id  member_id  loan_amnt  funded_amnt  funded_amnt_inv        term  \\\n0   1077501    1296599     5000.0       5000.0           4975.0   36 months   \n1   1077430    1314167     2500.0       2500.0           2500.0   60 months   \n2   1077175    1313524     2400.0       2400.0           2400.0   36 months   \n3   1076863    1277178    10000.0      10000.0          10000.0   36 months   \n4   1075358    1311748     3000.0       3000.0           3000.0   60 months   \n5   1075269    1311441     5000.0       5000.0           5000.0   36 months   \n6   1069639    1304742     7000.0       7000.0           7000.0   60 months   \n7   1072053    1288686     3000.0       3000.0           3000.0   36 months   \n8   1071795    1306957     5600.0       5600.0           5600.0   60 months   \n9   1071570    1306721     5375.0       5375.0           5350.0   60 months   \n10  1070078    1305201     6500.0       6500.0           6500.0   60 months   \n11  1069908    1305008    12000.0      12000.0          12000.0   36 months   \n12  1064687    1298717     9000.0       9000.0           9000.0   36 months   \n13  1069866    1304956     3000.0       3000.0           3000.0   36 months   \n14  1069057    1303503    10000.0      10000.0          10000.0   36 months   \n15  1069759    1304871     1000.0       1000.0           1000.0   36 months   \n16  1065775    1299699    10000.0      10000.0          10000.0   36 months   \n17  1069971    1304884     3600.0       3600.0           3600.0   36 months   \n18  1062474    1294539     6000.0       6000.0           6000.0   36 months   \n19  1069742    1304855     9200.0       9200.0           9200.0   36 months   \n\n    int_rate  installment grade sub_grade  ... total_bal_il il_util  \\\n0      10.65       162.87     B        B2  ...          NaN     NaN   \n1      15.27        59.83     C        C4  ...          NaN     NaN   \n2      15.96        84.33     C        C5  ...          NaN     NaN   \n3      13.49       339.31     C        C1  ...          NaN     NaN   \n4      12.69        67.79     B        B5  ...          NaN     NaN   \n5       7.90       156.46     A        A4  ...          NaN     NaN   \n6      15.96       170.08     C        C5  ...          NaN     NaN   \n7      18.64       109.43     E        E1  ...          NaN     NaN   \n8      21.28       152.39     F        F2  ...          NaN     NaN   \n9      12.69       121.45     B        B5  ...          NaN     NaN   \n10     14.65       153.45     C        C3  ...          NaN     NaN   \n11     12.69       402.54     B        B5  ...          NaN     NaN   \n12     13.49       305.38     C        C1  ...          NaN     NaN   \n13      9.91        96.68     B        B1  ...          NaN     NaN   \n14     10.65       325.74     B        B2  ...          NaN     NaN   \n15     16.29        35.31     D        D1  ...          NaN     NaN   \n16     15.27       347.98     C        C4  ...          NaN     NaN   \n17      6.03       109.57     A        A1  ...          NaN     NaN   \n18     11.71       198.46     B        B3  ...          NaN     NaN   \n19      6.03       280.01     A        A1  ...          NaN     NaN   \n\n   open_rv_12m  open_rv_24m max_bal_bc all_util total_rev_hi_lim inq_fi  \\\n0          NaN          NaN        NaN      NaN              NaN    NaN   \n1          NaN          NaN        NaN      NaN              NaN    NaN   \n2          NaN          NaN        NaN      NaN              NaN    NaN   \n3          NaN          NaN        NaN      NaN              NaN    NaN   \n4          NaN          NaN        NaN      NaN              NaN    NaN   \n5          NaN          NaN        NaN      NaN              NaN    NaN   \n6          NaN          NaN        NaN      NaN              NaN    NaN   \n7          NaN          NaN        NaN      NaN              NaN    NaN   \n8          NaN          NaN        NaN      NaN              NaN    NaN   \n9          NaN          NaN        NaN      NaN              NaN    NaN   \n10         NaN          NaN        NaN      NaN              NaN    NaN   \n11         NaN          NaN        NaN      NaN              NaN    NaN   \n12         NaN          NaN        NaN      NaN              NaN    NaN   \n13         NaN          NaN        NaN      NaN              NaN    NaN   \n14         NaN          NaN        NaN      NaN              NaN    NaN   \n15         NaN          NaN        NaN      NaN              NaN    NaN   \n16         NaN          NaN        NaN      NaN              NaN    NaN   \n17         NaN          NaN        NaN      NaN              NaN    NaN   \n18         NaN          NaN        NaN      NaN              NaN    NaN   \n19         NaN          NaN        NaN      NaN              NaN    NaN   \n\n   total_cu_tl inq_last_12m  \n0          NaN          NaN  \n1          NaN          NaN  \n2          NaN          NaN  \n3          NaN          NaN  \n4          NaN          NaN  \n5          NaN          NaN  \n6          NaN          NaN  \n7          NaN          NaN  \n8          NaN          NaN  \n9          NaN          NaN  \n10         NaN          NaN  \n11         NaN          NaN  \n12         NaN          NaN  \n13         NaN          NaN  \n14         NaN          NaN  \n15         NaN          NaN  \n16         NaN          NaN  \n17         NaN          NaN  \n18         NaN          NaN  \n19         NaN          NaN  \n\n[20 rows x 74 columns]",
      "text/html": "<div>\n<style scoped>\n    .dataframe tbody tr th:only-of-type {\n        vertical-align: middle;\n    }\n\n    .dataframe tbody tr th {\n        vertical-align: top;\n    }\n\n    .dataframe thead th {\n        text-align: right;\n    }\n</style>\n<table border=\"1\" class=\"dataframe\">\n  <thead>\n    <tr style=\"text-align: right;\">\n      <th></th>\n      <th>id</th>\n      <th>member_id</th>\n      <th>loan_amnt</th>\n      <th>funded_amnt</th>\n      <th>funded_amnt_inv</th>\n      <th>term</th>\n      <th>int_rate</th>\n      <th>installment</th>\n      <th>grade</th>\n      <th>sub_grade</th>\n      <th>...</th>\n      <th>total_bal_il</th>\n      <th>il_util</th>\n      <th>open_rv_12m</th>\n      <th>open_rv_24m</th>\n      <th>max_bal_bc</th>\n      <th>all_util</th>\n      <th>total_rev_hi_lim</th>\n      <th>inq_fi</th>\n      <th>total_cu_tl</th>\n      <th>inq_last_12m</th>\n    </tr>\n  </thead>\n  <tbody>\n    <tr>\n      <th>0</th>\n      <td>1077501</td>\n      <td>1296599</td>\n      <td>5000.0</td>\n      <td>5000.0</td>\n      <td>4975.0</td>\n      <td>36 months</td>\n      <td>10.65</td>\n      <td>162.87</td>\n      <td>B</td>\n      <td>B2</td>\n      <td>...</td>\n      <td>NaN</td>\n      <td>NaN</td>\n      <td>NaN</td>\n      <td>NaN</td>\n      <td>NaN</td>\n      <td>NaN</td>\n      <td>NaN</td>\n      <td>NaN</td>\n      <td>NaN</td>\n      <td>NaN</td>\n    </tr>\n    <tr>\n      <th>1</th>\n      <td>1077430</td>\n      <td>1314167</td>\n      <td>2500.0</td>\n      <td>2500.0</td>\n      <td>2500.0</td>\n      <td>60 months</td>\n      <td>15.27</td>\n      <td>59.83</td>\n      <td>C</td>\n      <td>C4</td>\n      <td>...</td>\n      <td>NaN</td>\n      <td>NaN</td>\n      <td>NaN</td>\n      <td>NaN</td>\n      <td>NaN</td>\n      <td>NaN</td>\n      <td>NaN</td>\n      <td>NaN</td>\n      <td>NaN</td>\n      <td>NaN</td>\n    </tr>\n    <tr>\n      <th>2</th>\n      <td>1077175</td>\n      <td>1313524</td>\n      <td>2400.0</td>\n      <td>2400.0</td>\n      <td>2400.0</td>\n      <td>36 months</td>\n      <td>15.96</td>\n      <td>84.33</td>\n      <td>C</td>\n      <td>C5</td>\n      <td>...</td>\n      <td>NaN</td>\n      <td>NaN</td>\n      <td>NaN</td>\n      <td>NaN</td>\n      <td>NaN</td>\n      <td>NaN</td>\n      <td>NaN</td>\n      <td>NaN</td>\n      <td>NaN</td>\n      <td>NaN</td>\n    </tr>\n    <tr>\n      <th>3</th>\n      <td>1076863</td>\n      <td>1277178</td>\n      <td>10000.0</td>\n      <td>10000.0</td>\n      <td>10000.0</td>\n      <td>36 months</td>\n      <td>13.49</td>\n      <td>339.31</td>\n      <td>C</td>\n      <td>C1</td>\n      <td>...</td>\n      <td>NaN</td>\n      <td>NaN</td>\n      <td>NaN</td>\n      <td>NaN</td>\n      <td>NaN</td>\n      <td>NaN</td>\n      <td>NaN</td>\n      <td>NaN</td>\n      <td>NaN</td>\n      <td>NaN</td>\n    </tr>\n    <tr>\n      <th>4</th>\n      <td>1075358</td>\n      <td>1311748</td>\n      <td>3000.0</td>\n      <td>3000.0</td>\n      <td>3000.0</td>\n      <td>60 months</td>\n      <td>12.69</td>\n      <td>67.79</td>\n      <td>B</td>\n      <td>B5</td>\n      <td>...</td>\n      <td>NaN</td>\n      <td>NaN</td>\n      <td>NaN</td>\n      <td>NaN</td>\n      <td>NaN</td>\n      <td>NaN</td>\n      <td>NaN</td>\n      <td>NaN</td>\n      <td>NaN</td>\n      <td>NaN</td>\n    </tr>\n    <tr>\n      <th>5</th>\n      <td>1075269</td>\n      <td>1311441</td>\n      <td>5000.0</td>\n      <td>5000.0</td>\n      <td>5000.0</td>\n      <td>36 months</td>\n      <td>7.90</td>\n      <td>156.46</td>\n      <td>A</td>\n      <td>A4</td>\n      <td>...</td>\n      <td>NaN</td>\n      <td>NaN</td>\n      <td>NaN</td>\n      <td>NaN</td>\n      <td>NaN</td>\n      <td>NaN</td>\n      <td>NaN</td>\n      <td>NaN</td>\n      <td>NaN</td>\n      <td>NaN</td>\n    </tr>\n    <tr>\n      <th>6</th>\n      <td>1069639</td>\n      <td>1304742</td>\n      <td>7000.0</td>\n      <td>7000.0</td>\n      <td>7000.0</td>\n      <td>60 months</td>\n      <td>15.96</td>\n      <td>170.08</td>\n      <td>C</td>\n      <td>C5</td>\n      <td>...</td>\n      <td>NaN</td>\n      <td>NaN</td>\n      <td>NaN</td>\n      <td>NaN</td>\n      <td>NaN</td>\n      <td>NaN</td>\n      <td>NaN</td>\n      <td>NaN</td>\n      <td>NaN</td>\n      <td>NaN</td>\n    </tr>\n    <tr>\n      <th>7</th>\n      <td>1072053</td>\n      <td>1288686</td>\n      <td>3000.0</td>\n      <td>3000.0</td>\n      <td>3000.0</td>\n      <td>36 months</td>\n      <td>18.64</td>\n      <td>109.43</td>\n      <td>E</td>\n      <td>E1</td>\n      <td>...</td>\n      <td>NaN</td>\n      <td>NaN</td>\n      <td>NaN</td>\n      <td>NaN</td>\n      <td>NaN</td>\n      <td>NaN</td>\n      <td>NaN</td>\n      <td>NaN</td>\n      <td>NaN</td>\n      <td>NaN</td>\n    </tr>\n    <tr>\n      <th>8</th>\n      <td>1071795</td>\n      <td>1306957</td>\n      <td>5600.0</td>\n      <td>5600.0</td>\n      <td>5600.0</td>\n      <td>60 months</td>\n      <td>21.28</td>\n      <td>152.39</td>\n      <td>F</td>\n      <td>F2</td>\n      <td>...</td>\n      <td>NaN</td>\n      <td>NaN</td>\n      <td>NaN</td>\n      <td>NaN</td>\n      <td>NaN</td>\n      <td>NaN</td>\n      <td>NaN</td>\n      <td>NaN</td>\n      <td>NaN</td>\n      <td>NaN</td>\n    </tr>\n    <tr>\n      <th>9</th>\n      <td>1071570</td>\n      <td>1306721</td>\n      <td>5375.0</td>\n      <td>5375.0</td>\n      <td>5350.0</td>\n      <td>60 months</td>\n      <td>12.69</td>\n      <td>121.45</td>\n      <td>B</td>\n      <td>B5</td>\n      <td>...</td>\n      <td>NaN</td>\n      <td>NaN</td>\n      <td>NaN</td>\n      <td>NaN</td>\n      <td>NaN</td>\n      <td>NaN</td>\n      <td>NaN</td>\n      <td>NaN</td>\n      <td>NaN</td>\n      <td>NaN</td>\n    </tr>\n    <tr>\n      <th>10</th>\n      <td>1070078</td>\n      <td>1305201</td>\n      <td>6500.0</td>\n      <td>6500.0</td>\n      <td>6500.0</td>\n      <td>60 months</td>\n      <td>14.65</td>\n      <td>153.45</td>\n      <td>C</td>\n      <td>C3</td>\n      <td>...</td>\n      <td>NaN</td>\n      <td>NaN</td>\n      <td>NaN</td>\n      <td>NaN</td>\n      <td>NaN</td>\n      <td>NaN</td>\n      <td>NaN</td>\n      <td>NaN</td>\n      <td>NaN</td>\n      <td>NaN</td>\n    </tr>\n    <tr>\n      <th>11</th>\n      <td>1069908</td>\n      <td>1305008</td>\n      <td>12000.0</td>\n      <td>12000.0</td>\n      <td>12000.0</td>\n      <td>36 months</td>\n      <td>12.69</td>\n      <td>402.54</td>\n      <td>B</td>\n      <td>B5</td>\n      <td>...</td>\n      <td>NaN</td>\n      <td>NaN</td>\n      <td>NaN</td>\n      <td>NaN</td>\n      <td>NaN</td>\n      <td>NaN</td>\n      <td>NaN</td>\n      <td>NaN</td>\n      <td>NaN</td>\n      <td>NaN</td>\n    </tr>\n    <tr>\n      <th>12</th>\n      <td>1064687</td>\n      <td>1298717</td>\n      <td>9000.0</td>\n      <td>9000.0</td>\n      <td>9000.0</td>\n      <td>36 months</td>\n      <td>13.49</td>\n      <td>305.38</td>\n      <td>C</td>\n      <td>C1</td>\n      <td>...</td>\n      <td>NaN</td>\n      <td>NaN</td>\n      <td>NaN</td>\n      <td>NaN</td>\n      <td>NaN</td>\n      <td>NaN</td>\n      <td>NaN</td>\n      <td>NaN</td>\n      <td>NaN</td>\n      <td>NaN</td>\n    </tr>\n    <tr>\n      <th>13</th>\n      <td>1069866</td>\n      <td>1304956</td>\n      <td>3000.0</td>\n      <td>3000.0</td>\n      <td>3000.0</td>\n      <td>36 months</td>\n      <td>9.91</td>\n      <td>96.68</td>\n      <td>B</td>\n      <td>B1</td>\n      <td>...</td>\n      <td>NaN</td>\n      <td>NaN</td>\n      <td>NaN</td>\n      <td>NaN</td>\n      <td>NaN</td>\n      <td>NaN</td>\n      <td>NaN</td>\n      <td>NaN</td>\n      <td>NaN</td>\n      <td>NaN</td>\n    </tr>\n    <tr>\n      <th>14</th>\n      <td>1069057</td>\n      <td>1303503</td>\n      <td>10000.0</td>\n      <td>10000.0</td>\n      <td>10000.0</td>\n      <td>36 months</td>\n      <td>10.65</td>\n      <td>325.74</td>\n      <td>B</td>\n      <td>B2</td>\n      <td>...</td>\n      <td>NaN</td>\n      <td>NaN</td>\n      <td>NaN</td>\n      <td>NaN</td>\n      <td>NaN</td>\n      <td>NaN</td>\n      <td>NaN</td>\n      <td>NaN</td>\n      <td>NaN</td>\n      <td>NaN</td>\n    </tr>\n    <tr>\n      <th>15</th>\n      <td>1069759</td>\n      <td>1304871</td>\n      <td>1000.0</td>\n      <td>1000.0</td>\n      <td>1000.0</td>\n      <td>36 months</td>\n      <td>16.29</td>\n      <td>35.31</td>\n      <td>D</td>\n      <td>D1</td>\n      <td>...</td>\n      <td>NaN</td>\n      <td>NaN</td>\n      <td>NaN</td>\n      <td>NaN</td>\n      <td>NaN</td>\n      <td>NaN</td>\n      <td>NaN</td>\n      <td>NaN</td>\n      <td>NaN</td>\n      <td>NaN</td>\n    </tr>\n    <tr>\n      <th>16</th>\n      <td>1065775</td>\n      <td>1299699</td>\n      <td>10000.0</td>\n      <td>10000.0</td>\n      <td>10000.0</td>\n      <td>36 months</td>\n      <td>15.27</td>\n      <td>347.98</td>\n      <td>C</td>\n      <td>C4</td>\n      <td>...</td>\n      <td>NaN</td>\n      <td>NaN</td>\n      <td>NaN</td>\n      <td>NaN</td>\n      <td>NaN</td>\n      <td>NaN</td>\n      <td>NaN</td>\n      <td>NaN</td>\n      <td>NaN</td>\n      <td>NaN</td>\n    </tr>\n    <tr>\n      <th>17</th>\n      <td>1069971</td>\n      <td>1304884</td>\n      <td>3600.0</td>\n      <td>3600.0</td>\n      <td>3600.0</td>\n      <td>36 months</td>\n      <td>6.03</td>\n      <td>109.57</td>\n      <td>A</td>\n      <td>A1</td>\n      <td>...</td>\n      <td>NaN</td>\n      <td>NaN</td>\n      <td>NaN</td>\n      <td>NaN</td>\n      <td>NaN</td>\n      <td>NaN</td>\n      <td>NaN</td>\n      <td>NaN</td>\n      <td>NaN</td>\n      <td>NaN</td>\n    </tr>\n    <tr>\n      <th>18</th>\n      <td>1062474</td>\n      <td>1294539</td>\n      <td>6000.0</td>\n      <td>6000.0</td>\n      <td>6000.0</td>\n      <td>36 months</td>\n      <td>11.71</td>\n      <td>198.46</td>\n      <td>B</td>\n      <td>B3</td>\n      <td>...</td>\n      <td>NaN</td>\n      <td>NaN</td>\n      <td>NaN</td>\n      <td>NaN</td>\n      <td>NaN</td>\n      <td>NaN</td>\n      <td>NaN</td>\n      <td>NaN</td>\n      <td>NaN</td>\n      <td>NaN</td>\n    </tr>\n    <tr>\n      <th>19</th>\n      <td>1069742</td>\n      <td>1304855</td>\n      <td>9200.0</td>\n      <td>9200.0</td>\n      <td>9200.0</td>\n      <td>36 months</td>\n      <td>6.03</td>\n      <td>280.01</td>\n      <td>A</td>\n      <td>A1</td>\n      <td>...</td>\n      <td>NaN</td>\n      <td>NaN</td>\n      <td>NaN</td>\n      <td>NaN</td>\n      <td>NaN</td>\n      <td>NaN</td>\n      <td>NaN</td>\n      <td>NaN</td>\n      <td>NaN</td>\n      <td>NaN</td>\n    </tr>\n  </tbody>\n</table>\n<p>20 rows × 74 columns</p>\n</div>"
     },
     "execution_count": 15,
     "metadata": {},
     "output_type": "execute_result"
    }
   ],
   "source": [
    "df.head(20)"
   ],
   "metadata": {
    "collapsed": false,
    "ExecuteTime": {
     "end_time": "2024-02-28T09:56:20.842602Z",
     "start_time": "2024-02-28T09:56:20.827509Z"
    }
   },
   "id": "b5f00bff0d349ac4"
  },
  {
   "cell_type": "code",
   "execution_count": 16,
   "outputs": [
    {
     "name": "stdout",
     "output_type": "stream",
     "text": [
      "<class 'pandas.core.frame.DataFrame'>\n",
      "RangeIndex: 887379 entries, 0 to 887378\n",
      "Data columns (total 74 columns):\n",
      " #   Column                       Non-Null Count   Dtype  \n",
      "---  ------                       --------------   -----  \n",
      " 0   id                           887379 non-null  int64  \n",
      " 1   member_id                    887379 non-null  int64  \n",
      " 2   loan_amnt                    887379 non-null  float64\n",
      " 3   funded_amnt                  887379 non-null  float64\n",
      " 4   funded_amnt_inv              887379 non-null  float64\n",
      " 5   term                         887379 non-null  object \n",
      " 6   int_rate                     887379 non-null  float64\n",
      " 7   installment                  887379 non-null  float64\n",
      " 8   grade                        887379 non-null  object \n",
      " 9   sub_grade                    887379 non-null  object \n",
      " 10  emp_title                    835917 non-null  object \n",
      " 11  emp_length                   842554 non-null  object \n",
      " 12  home_ownership               887379 non-null  object \n",
      " 13  annual_inc                   887375 non-null  float64\n",
      " 14  verification_status          887379 non-null  object \n",
      " 15  issue_d                      887379 non-null  object \n",
      " 16  loan_status                  887379 non-null  object \n",
      " 17  pymnt_plan                   887379 non-null  object \n",
      " 18  url                          887379 non-null  object \n",
      " 19  desc                         126026 non-null  object \n",
      " 20  purpose                      887379 non-null  object \n",
      " 21  title                        887226 non-null  object \n",
      " 22  zip_code                     887379 non-null  object \n",
      " 23  addr_state                   887379 non-null  object \n",
      " 24  dti                          887379 non-null  float64\n",
      " 25  delinq_2yrs                  887350 non-null  float64\n",
      " 26  earliest_cr_line             887350 non-null  object \n",
      " 27  inq_last_6mths               887350 non-null  float64\n",
      " 28  mths_since_last_delinq       433067 non-null  float64\n",
      " 29  mths_since_last_record       137053 non-null  float64\n",
      " 30  open_acc                     887350 non-null  float64\n",
      " 31  pub_rec                      887350 non-null  float64\n",
      " 32  revol_bal                    887379 non-null  float64\n",
      " 33  revol_util                   886877 non-null  float64\n",
      " 34  total_acc                    887350 non-null  float64\n",
      " 35  initial_list_status          887379 non-null  object \n",
      " 36  out_prncp                    887379 non-null  float64\n",
      " 37  out_prncp_inv                887379 non-null  float64\n",
      " 38  total_pymnt                  887379 non-null  float64\n",
      " 39  total_pymnt_inv              887379 non-null  float64\n",
      " 40  total_rec_prncp              887379 non-null  float64\n",
      " 41  total_rec_int                887379 non-null  float64\n",
      " 42  total_rec_late_fee           887379 non-null  float64\n",
      " 43  recoveries                   887379 non-null  float64\n",
      " 44  collection_recovery_fee      887379 non-null  float64\n",
      " 45  last_pymnt_d                 869720 non-null  object \n",
      " 46  last_pymnt_amnt              887379 non-null  float64\n",
      " 47  next_pymnt_d                 634408 non-null  object \n",
      " 48  last_credit_pull_d           887326 non-null  object \n",
      " 49  collections_12_mths_ex_med   887234 non-null  float64\n",
      " 50  mths_since_last_major_derog  221703 non-null  float64\n",
      " 51  policy_code                  887379 non-null  float64\n",
      " 52  application_type             887379 non-null  object \n",
      " 53  annual_inc_joint             511 non-null     float64\n",
      " 54  dti_joint                    509 non-null     float64\n",
      " 55  verification_status_joint    511 non-null     object \n",
      " 56  acc_now_delinq               887350 non-null  float64\n",
      " 57  tot_coll_amt                 817103 non-null  float64\n",
      " 58  tot_cur_bal                  817103 non-null  float64\n",
      " 59  open_acc_6m                  21372 non-null   float64\n",
      " 60  open_il_6m                   21372 non-null   float64\n",
      " 61  open_il_12m                  21372 non-null   float64\n",
      " 62  open_il_24m                  21372 non-null   float64\n",
      " 63  mths_since_rcnt_il           20810 non-null   float64\n",
      " 64  total_bal_il                 21372 non-null   float64\n",
      " 65  il_util                      18617 non-null   float64\n",
      " 66  open_rv_12m                  21372 non-null   float64\n",
      " 67  open_rv_24m                  21372 non-null   float64\n",
      " 68  max_bal_bc                   21372 non-null   float64\n",
      " 69  all_util                     21372 non-null   float64\n",
      " 70  total_rev_hi_lim             817103 non-null  float64\n",
      " 71  inq_fi                       21372 non-null   float64\n",
      " 72  total_cu_tl                  21372 non-null   float64\n",
      " 73  inq_last_12m                 21372 non-null   float64\n",
      "dtypes: float64(49), int64(2), object(23)\n",
      "memory usage: 501.0+ MB\n"
     ]
    }
   ],
   "source": [
    "df.info()"
   ],
   "metadata": {
    "collapsed": false,
    "ExecuteTime": {
     "end_time": "2024-02-28T09:56:21.305897Z",
     "start_time": "2024-02-28T09:56:20.841407Z"
    }
   },
   "id": "9e9e777c884d1b67"
  },
  {
   "cell_type": "markdown",
   "source": [
    "# 2. Filtering and Cleaning"
   ],
   "metadata": {
    "collapsed": false
   },
   "id": "f59fdc9173c3f53b"
  },
  {
   "cell_type": "code",
   "execution_count": 17,
   "outputs": [],
   "source": [
    "# Filter for single person applications\n",
    "df_indv = df[df[\"application_type\"] != \"JOINT\"]"
   ],
   "metadata": {
    "collapsed": false,
    "ExecuteTime": {
     "end_time": "2024-02-28T09:56:21.579240Z",
     "start_time": "2024-02-28T09:56:21.329972Z"
    }
   },
   "id": "f27e63f3e1e6e7d7"
  },
  {
   "cell_type": "code",
   "execution_count": 18,
   "outputs": [
    {
     "name": "stdout",
     "output_type": "stream",
     "text": [
      "<class 'pandas.core.frame.DataFrame'>\n",
      "Index: 886868 entries, 0 to 887378\n",
      "Data columns (total 74 columns):\n",
      " #   Column                       Non-Null Count   Dtype  \n",
      "---  ------                       --------------   -----  \n",
      " 0   id                           886868 non-null  int64  \n",
      " 1   member_id                    886868 non-null  int64  \n",
      " 2   loan_amnt                    886868 non-null  float64\n",
      " 3   funded_amnt                  886868 non-null  float64\n",
      " 4   funded_amnt_inv              886868 non-null  float64\n",
      " 5   term                         886868 non-null  object \n",
      " 6   int_rate                     886868 non-null  float64\n",
      " 7   installment                  886868 non-null  float64\n",
      " 8   grade                        886868 non-null  object \n",
      " 9   sub_grade                    886868 non-null  object \n",
      " 10  emp_title                    835467 non-null  object \n",
      " 11  emp_length                   842104 non-null  object \n",
      " 12  home_ownership               886868 non-null  object \n",
      " 13  annual_inc                   886864 non-null  float64\n",
      " 14  verification_status          886868 non-null  object \n",
      " 15  issue_d                      886868 non-null  object \n",
      " 16  loan_status                  886868 non-null  object \n",
      " 17  pymnt_plan                   886868 non-null  object \n",
      " 18  url                          886868 non-null  object \n",
      " 19  desc                         126026 non-null  object \n",
      " 20  purpose                      886868 non-null  object \n",
      " 21  title                        886724 non-null  object \n",
      " 22  zip_code                     886868 non-null  object \n",
      " 23  addr_state                   886868 non-null  object \n",
      " 24  dti                          886868 non-null  float64\n",
      " 25  delinq_2yrs                  886839 non-null  float64\n",
      " 26  earliest_cr_line             886839 non-null  object \n",
      " 27  inq_last_6mths               886839 non-null  float64\n",
      " 28  mths_since_last_delinq       432788 non-null  float64\n",
      " 29  mths_since_last_record       136937 non-null  float64\n",
      " 30  open_acc                     886839 non-null  float64\n",
      " 31  pub_rec                      886839 non-null  float64\n",
      " 32  revol_bal                    886868 non-null  float64\n",
      " 33  revol_util                   886366 non-null  float64\n",
      " 34  total_acc                    886839 non-null  float64\n",
      " 35  initial_list_status          886868 non-null  object \n",
      " 36  out_prncp                    886868 non-null  float64\n",
      " 37  out_prncp_inv                886868 non-null  float64\n",
      " 38  total_pymnt                  886868 non-null  float64\n",
      " 39  total_pymnt_inv              886868 non-null  float64\n",
      " 40  total_rec_prncp              886868 non-null  float64\n",
      " 41  total_rec_int                886868 non-null  float64\n",
      " 42  total_rec_late_fee           886868 non-null  float64\n",
      " 43  recoveries                   886868 non-null  float64\n",
      " 44  collection_recovery_fee      886868 non-null  float64\n",
      " 45  last_pymnt_d                 869347 non-null  object \n",
      " 46  last_pymnt_amnt              886868 non-null  float64\n",
      " 47  next_pymnt_d                 633898 non-null  object \n",
      " 48  last_credit_pull_d           886815 non-null  object \n",
      " 49  collections_12_mths_ex_med   886723 non-null  float64\n",
      " 50  mths_since_last_major_derog  221556 non-null  float64\n",
      " 51  policy_code                  886868 non-null  float64\n",
      " 52  application_type             886868 non-null  object \n",
      " 53  annual_inc_joint             0 non-null       float64\n",
      " 54  dti_joint                    0 non-null       float64\n",
      " 55  verification_status_joint    0 non-null       object \n",
      " 56  acc_now_delinq               886839 non-null  float64\n",
      " 57  tot_coll_amt                 816592 non-null  float64\n",
      " 58  tot_cur_bal                  816592 non-null  float64\n",
      " 59  open_acc_6m                  21209 non-null   float64\n",
      " 60  open_il_6m                   21209 non-null   float64\n",
      " 61  open_il_12m                  21209 non-null   float64\n",
      " 62  open_il_24m                  21209 non-null   float64\n",
      " 63  mths_since_rcnt_il           20648 non-null   float64\n",
      " 64  total_bal_il                 21209 non-null   float64\n",
      " 65  il_util                      18476 non-null   float64\n",
      " 66  open_rv_12m                  21209 non-null   float64\n",
      " 67  open_rv_24m                  21209 non-null   float64\n",
      " 68  max_bal_bc                   21209 non-null   float64\n",
      " 69  all_util                     21209 non-null   float64\n",
      " 70  total_rev_hi_lim             816592 non-null  float64\n",
      " 71  inq_fi                       21209 non-null   float64\n",
      " 72  total_cu_tl                  21209 non-null   float64\n",
      " 73  inq_last_12m                 21209 non-null   float64\n",
      "dtypes: float64(49), int64(2), object(23)\n",
      "memory usage: 507.5+ MB\n"
     ]
    }
   ],
   "source": [
    "df_indv.info()"
   ],
   "metadata": {
    "collapsed": false,
    "ExecuteTime": {
     "end_time": "2024-02-28T09:56:21.992363Z",
     "start_time": "2024-02-28T09:56:21.579451Z"
    }
   },
   "id": "54d870fa3501e4fc"
  },
  {
   "cell_type": "code",
   "execution_count": 19,
   "outputs": [
    {
     "name": "stderr",
     "output_type": "stream",
     "text": [
      "/var/folders/97/w7m6hrnj5lldx6gxjw172mnm0000gn/T/ipykernel_60420/2425348983.py:2: SettingWithCopyWarning: \n",
      "A value is trying to be set on a copy of a slice from a DataFrame\n",
      "\n",
      "See the caveats in the documentation: https://pandas.pydata.org/pandas-docs/stable/user_guide/indexing.html#returning-a-view-versus-a-copy\n",
      "  df_indv.drop(columns=df_indv.columns.difference(['id','member_id','loan_amnt','funded_amnt','term','int_rate','installment',\n"
     ]
    }
   ],
   "source": [
    "# Extract relevant columns to new df\n",
    "df_indv.drop(columns=df_indv.columns.difference(['id','member_id','loan_amnt','funded_amnt','term','int_rate','installment',\n",
    "                                         'grade','sub_grade','emp_length','home_ownership','annual_inc','verification_status','loan_status','pymnt_plan','purpose','addr_state','dti','delinq_2yrs','mths_since_last_delinq','total_acc','out_prncp', 'total_pymnt','total_rec_prncp','total_rec_interest','total_rec_late_fee','acc_now_delinq']), inplace=True)\n"
   ],
   "metadata": {
    "collapsed": false,
    "ExecuteTime": {
     "end_time": "2024-02-28T09:56:22.108461Z",
     "start_time": "2024-02-28T09:56:21.994162Z"
    }
   },
   "id": "7df0c1367a29b617"
  },
  {
   "cell_type": "markdown",
   "source": [
    "# Dealing with Nulls"
   ],
   "metadata": {
    "collapsed": false
   },
   "id": "1d82abafd48595c5"
  },
  {
   "cell_type": "code",
   "execution_count": 21,
   "outputs": [
    {
     "data": {
      "text/plain": "id                             0\nmember_id                      0\nloan_amnt                      0\nfunded_amnt                    0\nterm                           0\nint_rate                       0\ninstallment                    0\ngrade                          0\nsub_grade                      0\nemp_length                 44764\nhome_ownership                 0\nannual_inc                     4\nverification_status            0\nloan_status                    0\npymnt_plan                     0\npurpose                        0\naddr_state                     0\ndti                            0\ndelinq_2yrs                   29\nmths_since_last_delinq    454080\ntotal_acc                     29\nout_prncp                      0\ntotal_pymnt                    0\ntotal_rec_prncp                0\ntotal_rec_late_fee             0\nacc_now_delinq                29\ndtype: int64"
     },
     "execution_count": 21,
     "metadata": {},
     "output_type": "execute_result"
    }
   ],
   "source": [
    "# Look at all the nulls \n",
    "df_indv.isnull().sum()"
   ],
   "metadata": {
    "collapsed": false,
    "ExecuteTime": {
     "end_time": "2024-02-28T09:56:22.265874Z",
     "start_time": "2024-02-28T09:56:22.111366Z"
    }
   },
   "id": "547929884b867d38"
  },
  {
   "cell_type": "code",
   "execution_count": 22,
   "outputs": [
    {
     "name": "stderr",
     "output_type": "stream",
     "text": [
      "/var/folders/97/w7m6hrnj5lldx6gxjw172mnm0000gn/T/ipykernel_60420/3038040467.py:3: SettingWithCopyWarning: \n",
      "A value is trying to be set on a copy of a slice from a DataFrame\n",
      "\n",
      "See the caveats in the documentation: https://pandas.pydata.org/pandas-docs/stable/user_guide/indexing.html#returning-a-view-versus-a-copy\n",
      "  df_indv[column].fillna(0, inplace=True)\n"
     ]
    },
    {
     "data": {
      "text/plain": "id                            0\nmember_id                     0\nloan_amnt                     0\nfunded_amnt                   0\nterm                          0\nint_rate                      0\ninstallment                   0\ngrade                         0\nsub_grade                     0\nemp_length                44764\nhome_ownership                0\nannual_inc                    0\nverification_status           0\nloan_status                   0\npymnt_plan                    0\npurpose                       0\naddr_state                    0\ndti                           0\ndelinq_2yrs                   0\nmths_since_last_delinq        0\ntotal_acc                     0\nout_prncp                     0\ntotal_pymnt                   0\ntotal_rec_prncp               0\ntotal_rec_late_fee            0\nacc_now_delinq                0\ndtype: int64"
     },
     "execution_count": 22,
     "metadata": {},
     "output_type": "execute_result"
    }
   ],
   "source": [
    "# Fill any int or float columns null with 0\n",
    "\n",
    "for column in df_indv.columns:\n",
    "    if df_indv[column].isnull().any() and df_indv[column].dtype in ['int64', 'float64']:\n",
    "        df_indv[column].fillna(0, inplace=True)\n",
    "df_indv.isnull().sum()"
   ],
   "metadata": {
    "collapsed": false,
    "ExecuteTime": {
     "end_time": "2024-02-28T09:56:22.554663Z",
     "start_time": "2024-02-28T09:56:22.266624Z"
    }
   },
   "id": "617affd3bccbc71c"
  },
  {
   "cell_type": "code",
   "execution_count": 23,
   "outputs": [
    {
     "name": "stderr",
     "output_type": "stream",
     "text": [
      "/var/folders/97/w7m6hrnj5lldx6gxjw172mnm0000gn/T/ipykernel_60420/2576558623.py:16: SettingWithCopyWarning: \n",
      "A value is trying to be set on a copy of a slice from a DataFrame.\n",
      "Try using .loc[row_indexer,col_indexer] = value instead\n",
      "\n",
      "See the caveats in the documentation: https://pandas.pydata.org/pandas-docs/stable/user_guide/indexing.html#returning-a-view-versus-a-copy\n",
      "  df_indv['emp_length'] = df_indv['emp_length'].map(emp_length_map)\n"
     ]
    }
   ],
   "source": [
    "emp_length_map = {\n",
    "    '10+ years': 11,\n",
    "    '< 1 year': 0,\n",
    "    '1 year': 1,\n",
    "    '2 years': 2,\n",
    "    '3 years': 3,\n",
    "    '4 years': 4,\n",
    "    '5 years': 5,\n",
    "    '6 years': 6,\n",
    "    '7 years': 7,\n",
    "    '8 years': 8,\n",
    "    '9 years': 9,\n",
    "    np.nan: 0  \n",
    "}\n",
    "\n",
    "df_indv['emp_length'] = df_indv['emp_length'].map(emp_length_map)"
   ],
   "metadata": {
    "collapsed": false,
    "ExecuteTime": {
     "end_time": "2024-02-28T09:56:22.677532Z",
     "start_time": "2024-02-28T09:56:22.649387Z"
    }
   },
   "id": "e02b190bf45d30"
  },
  {
   "cell_type": "code",
   "execution_count": 24,
   "outputs": [
    {
     "data": {
      "text/plain": "array([11,  0,  1,  3,  8,  9,  4,  5,  6,  2,  7])"
     },
     "execution_count": 24,
     "metadata": {},
     "output_type": "execute_result"
    }
   ],
   "source": [
    "df_indv['emp_length'].unique()"
   ],
   "metadata": {
    "collapsed": false,
    "ExecuteTime": {
     "end_time": "2024-02-28T09:56:22.682448Z",
     "start_time": "2024-02-28T09:56:22.678164Z"
    }
   },
   "id": "5e7f8693ce0a5306"
  },
  {
   "cell_type": "code",
   "execution_count": 25,
   "outputs": [
    {
     "data": {
      "text/plain": "id                        0\nmember_id                 0\nloan_amnt                 0\nfunded_amnt               0\nterm                      0\nint_rate                  0\ninstallment               0\ngrade                     0\nsub_grade                 0\nemp_length                0\nhome_ownership            0\nannual_inc                0\nverification_status       0\nloan_status               0\npymnt_plan                0\npurpose                   0\naddr_state                0\ndti                       0\ndelinq_2yrs               0\nmths_since_last_delinq    0\ntotal_acc                 0\nout_prncp                 0\ntotal_pymnt               0\ntotal_rec_prncp           0\ntotal_rec_late_fee        0\nacc_now_delinq            0\ndtype: int64"
     },
     "execution_count": 25,
     "metadata": {},
     "output_type": "execute_result"
    }
   ],
   "source": [
    "df_indv.isnull().sum()"
   ],
   "metadata": {
    "collapsed": false,
    "ExecuteTime": {
     "end_time": "2024-02-28T09:56:22.817470Z",
     "start_time": "2024-02-28T09:56:22.682957Z"
    }
   },
   "id": "8defd1da74ea6b86"
  },
  {
   "cell_type": "code",
   "execution_count": 25,
   "outputs": [],
   "source": [],
   "metadata": {
    "collapsed": false,
    "ExecuteTime": {
     "end_time": "2024-02-28T09:56:22.818711Z",
     "start_time": "2024-02-28T09:56:22.817166Z"
    }
   },
   "id": "573b5c43f34f187f"
  },
  {
   "cell_type": "code",
   "execution_count": 25,
   "outputs": [],
   "source": [],
   "metadata": {
    "collapsed": false,
    "ExecuteTime": {
     "end_time": "2024-02-28T09:56:22.820081Z",
     "start_time": "2024-02-28T09:56:22.818838Z"
    }
   },
   "id": "5dc38447e17f839f"
  },
  {
   "cell_type": "code",
   "execution_count": 25,
   "outputs": [],
   "source": [],
   "metadata": {
    "collapsed": false,
    "ExecuteTime": {
     "end_time": "2024-02-28T09:56:22.821846Z",
     "start_time": "2024-02-28T09:56:22.820387Z"
    }
   },
   "id": "a4bea1d3728cbc8e"
  },
  {
   "cell_type": "markdown",
   "source": [
    "# Dealing with non numeric features"
   ],
   "metadata": {
    "collapsed": false
   },
   "id": "72969da1e5106e1c"
  },
  {
   "cell_type": "code",
   "execution_count": 26,
   "outputs": [
    {
     "name": "stdout",
     "output_type": "stream",
     "text": [
      "<class 'pandas.core.frame.DataFrame'>\n",
      "Index: 886868 entries, 0 to 887378\n",
      "Data columns (total 26 columns):\n",
      " #   Column                  Non-Null Count   Dtype  \n",
      "---  ------                  --------------   -----  \n",
      " 0   id                      886868 non-null  int64  \n",
      " 1   member_id               886868 non-null  int64  \n",
      " 2   loan_amnt               886868 non-null  float64\n",
      " 3   funded_amnt             886868 non-null  float64\n",
      " 4   term                    886868 non-null  object \n",
      " 5   int_rate                886868 non-null  float64\n",
      " 6   installment             886868 non-null  float64\n",
      " 7   grade                   886868 non-null  object \n",
      " 8   sub_grade               886868 non-null  object \n",
      " 9   emp_length              886868 non-null  int64  \n",
      " 10  home_ownership          886868 non-null  object \n",
      " 11  annual_inc              886868 non-null  float64\n",
      " 12  verification_status     886868 non-null  object \n",
      " 13  loan_status             886868 non-null  object \n",
      " 14  pymnt_plan              886868 non-null  object \n",
      " 15  purpose                 886868 non-null  object \n",
      " 16  addr_state              886868 non-null  object \n",
      " 17  dti                     886868 non-null  float64\n",
      " 18  delinq_2yrs             886868 non-null  float64\n",
      " 19  mths_since_last_delinq  886868 non-null  float64\n",
      " 20  total_acc               886868 non-null  float64\n",
      " 21  out_prncp               886868 non-null  float64\n",
      " 22  total_pymnt             886868 non-null  float64\n",
      " 23  total_rec_prncp         886868 non-null  float64\n",
      " 24  total_rec_late_fee      886868 non-null  float64\n",
      " 25  acc_now_delinq          886868 non-null  float64\n",
      "dtypes: float64(14), int64(3), object(9)\n",
      "memory usage: 182.7+ MB\n"
     ]
    }
   ],
   "source": [
    "df_indv.info()"
   ],
   "metadata": {
    "collapsed": false,
    "ExecuteTime": {
     "end_time": "2024-02-28T09:56:22.960489Z",
     "start_time": "2024-02-28T09:56:22.822445Z"
    }
   },
   "id": "1a1ee281c7b6b4cc"
  },
  {
   "cell_type": "markdown",
   "source": [
    "# Grade and Subgrade"
   ],
   "metadata": {
    "collapsed": false
   },
   "id": "ee6af37485b78fc5"
  },
  {
   "cell_type": "code",
   "execution_count": 27,
   "outputs": [
    {
     "data": {
      "text/plain": "array(['B', 'C', 'A', 'E', 'F', 'D', 'G'], dtype=object)"
     },
     "execution_count": 27,
     "metadata": {},
     "output_type": "execute_result"
    }
   ],
   "source": [
    "df_indv['grade'].unique()"
   ],
   "metadata": {
    "collapsed": false,
    "ExecuteTime": {
     "end_time": "2024-02-28T09:56:22.978764Z",
     "start_time": "2024-02-28T09:56:22.972890Z"
    }
   },
   "id": "29d25e3e1003e5ae"
  },
  {
   "cell_type": "code",
   "execution_count": 28,
   "outputs": [
    {
     "data": {
      "text/plain": "['A1',\n 'A2',\n 'A3',\n 'A4',\n 'A5',\n 'B1',\n 'B2',\n 'B3',\n 'B4',\n 'B5',\n 'C1',\n 'C2',\n 'C3',\n 'C4',\n 'C5',\n 'D1',\n 'D2',\n 'D3',\n 'D4',\n 'D5',\n 'E1',\n 'E2',\n 'E3',\n 'E4',\n 'E5',\n 'F1',\n 'F2',\n 'F3',\n 'F4',\n 'F5',\n 'G1',\n 'G2',\n 'G3',\n 'G4',\n 'G5']"
     },
     "execution_count": 28,
     "metadata": {},
     "output_type": "execute_result"
    }
   ],
   "source": [
    "sorted(df_indv['sub_grade'].unique())"
   ],
   "metadata": {
    "collapsed": false,
    "ExecuteTime": {
     "end_time": "2024-02-28T09:56:22.995781Z",
     "start_time": "2024-02-28T09:56:22.990061Z"
    }
   },
   "id": "b530bceb8f66930c"
  },
  {
   "cell_type": "code",
   "execution_count": 29,
   "outputs": [],
   "source": [
    "grades = {\n",
    "    'A' : 1,\n",
    "    'B' : 2,\n",
    "    'C' : 3,\n",
    "    'D' : 4,\n",
    "    'E' : 5,\n",
    "    'F' : 6,\n",
    "    'G' : 7\n",
    "}\n",
    "subgrades = {\n",
    "    'A1': 1,\n",
    " 'A2': 2,\n",
    " 'A3': 3,\n",
    " 'A4': 4,\n",
    " 'A5': 5,\n",
    " 'B1': 6,\n",
    " 'B2': 7,\n",
    "    'B3': 8,\n",
    " 'B4': 9,\n",
    " 'B5':10,\n",
    " 'C1': 11,\n",
    " 'C2': 12,\n",
    " 'C3': 13,\n",
    " 'C4': 14,\n",
    " 'C5': 15,\n",
    " 'D1': 16,\n",
    " 'D2': 17,\n",
    " 'D3': 18,\n",
    " 'D4': 19,\n",
    " 'D5': 20,\n",
    " 'E1': 21,\n",
    " 'E2': 22,\n",
    " 'E3': 23,\n",
    " 'E4': 24,\n",
    " 'E5': 25,\n",
    " 'F1': 26,\n",
    " 'F2': 27,\n",
    " 'F3': 28,\n",
    " 'F4': 29,\n",
    " 'F5': 30,\n",
    " 'G1': 31,\n",
    " 'G2': 32,\n",
    " 'G3': 33,\n",
    " 'G4': 34,\n",
    " 'G5': 35\n",
    "}"
   ],
   "metadata": {
    "collapsed": false,
    "ExecuteTime": {
     "end_time": "2024-02-28T09:56:22.998854Z",
     "start_time": "2024-02-28T09:56:22.997134Z"
    }
   },
   "id": "6eebb54d62f296bb"
  },
  {
   "cell_type": "code",
   "execution_count": 30,
   "outputs": [
    {
     "name": "stderr",
     "output_type": "stream",
     "text": [
      "/var/folders/97/w7m6hrnj5lldx6gxjw172mnm0000gn/T/ipykernel_60420/957768247.py:1: SettingWithCopyWarning: \n",
      "A value is trying to be set on a copy of a slice from a DataFrame.\n",
      "Try using .loc[row_indexer,col_indexer] = value instead\n",
      "\n",
      "See the caveats in the documentation: https://pandas.pydata.org/pandas-docs/stable/user_guide/indexing.html#returning-a-view-versus-a-copy\n",
      "  df_indv['grade'] = df_indv['grade'].map(grades)\n",
      "/var/folders/97/w7m6hrnj5lldx6gxjw172mnm0000gn/T/ipykernel_60420/957768247.py:2: SettingWithCopyWarning: \n",
      "A value is trying to be set on a copy of a slice from a DataFrame.\n",
      "Try using .loc[row_indexer,col_indexer] = value instead\n",
      "\n",
      "See the caveats in the documentation: https://pandas.pydata.org/pandas-docs/stable/user_guide/indexing.html#returning-a-view-versus-a-copy\n",
      "  df_indv['sub_grade'] = df_indv['sub_grade'].map(subgrades)\n"
     ]
    }
   ],
   "source": [
    "df_indv['grade'] = df_indv['grade'].map(grades)\n",
    "df_indv['sub_grade'] = df_indv['sub_grade'].map(subgrades)"
   ],
   "metadata": {
    "collapsed": false,
    "ExecuteTime": {
     "end_time": "2024-02-28T09:56:23.036830Z",
     "start_time": "2024-02-28T09:56:22.998990Z"
    }
   },
   "id": "c7dbe7bc2cc3cde3"
  },
  {
   "cell_type": "code",
   "execution_count": 31,
   "outputs": [
    {
     "data": {
      "text/plain": "        id  member_id  loan_amnt  funded_amnt        term  int_rate  \\\n0  1077501    1296599     5000.0       5000.0   36 months     10.65   \n1  1077430    1314167     2500.0       2500.0   60 months     15.27   \n2  1077175    1313524     2400.0       2400.0   36 months     15.96   \n3  1076863    1277178    10000.0      10000.0   36 months     13.49   \n4  1075358    1311748     3000.0       3000.0   60 months     12.69   \n\n   installment  grade  sub_grade  emp_length  ... addr_state    dti  \\\n0       162.87      2          7          11  ...         AZ  27.65   \n1        59.83      3         14           0  ...         GA   1.00   \n2        84.33      3         15          11  ...         IL   8.72   \n3       339.31      3         11          11  ...         CA  20.00   \n4        67.79      2         10           1  ...         OR  17.94   \n\n  delinq_2yrs mths_since_last_delinq total_acc out_prncp   total_pymnt  \\\n0         0.0                    0.0       9.0       0.0   5861.071414   \n1         0.0                    0.0       4.0       0.0   1008.710000   \n2         0.0                    0.0      10.0       0.0   3003.653644   \n3         0.0                   35.0      37.0       0.0  12226.302212   \n4         0.0                   38.0      38.0     766.9   3242.170000   \n\n   total_rec_prncp  total_rec_late_fee  acc_now_delinq  \n0          5000.00                0.00             0.0  \n1           456.46                0.00             0.0  \n2          2400.00                0.00             0.0  \n3         10000.00               16.97             0.0  \n4          2233.10                0.00             0.0  \n\n[5 rows x 26 columns]",
      "text/html": "<div>\n<style scoped>\n    .dataframe tbody tr th:only-of-type {\n        vertical-align: middle;\n    }\n\n    .dataframe tbody tr th {\n        vertical-align: top;\n    }\n\n    .dataframe thead th {\n        text-align: right;\n    }\n</style>\n<table border=\"1\" class=\"dataframe\">\n  <thead>\n    <tr style=\"text-align: right;\">\n      <th></th>\n      <th>id</th>\n      <th>member_id</th>\n      <th>loan_amnt</th>\n      <th>funded_amnt</th>\n      <th>term</th>\n      <th>int_rate</th>\n      <th>installment</th>\n      <th>grade</th>\n      <th>sub_grade</th>\n      <th>emp_length</th>\n      <th>...</th>\n      <th>addr_state</th>\n      <th>dti</th>\n      <th>delinq_2yrs</th>\n      <th>mths_since_last_delinq</th>\n      <th>total_acc</th>\n      <th>out_prncp</th>\n      <th>total_pymnt</th>\n      <th>total_rec_prncp</th>\n      <th>total_rec_late_fee</th>\n      <th>acc_now_delinq</th>\n    </tr>\n  </thead>\n  <tbody>\n    <tr>\n      <th>0</th>\n      <td>1077501</td>\n      <td>1296599</td>\n      <td>5000.0</td>\n      <td>5000.0</td>\n      <td>36 months</td>\n      <td>10.65</td>\n      <td>162.87</td>\n      <td>2</td>\n      <td>7</td>\n      <td>11</td>\n      <td>...</td>\n      <td>AZ</td>\n      <td>27.65</td>\n      <td>0.0</td>\n      <td>0.0</td>\n      <td>9.0</td>\n      <td>0.0</td>\n      <td>5861.071414</td>\n      <td>5000.00</td>\n      <td>0.00</td>\n      <td>0.0</td>\n    </tr>\n    <tr>\n      <th>1</th>\n      <td>1077430</td>\n      <td>1314167</td>\n      <td>2500.0</td>\n      <td>2500.0</td>\n      <td>60 months</td>\n      <td>15.27</td>\n      <td>59.83</td>\n      <td>3</td>\n      <td>14</td>\n      <td>0</td>\n      <td>...</td>\n      <td>GA</td>\n      <td>1.00</td>\n      <td>0.0</td>\n      <td>0.0</td>\n      <td>4.0</td>\n      <td>0.0</td>\n      <td>1008.710000</td>\n      <td>456.46</td>\n      <td>0.00</td>\n      <td>0.0</td>\n    </tr>\n    <tr>\n      <th>2</th>\n      <td>1077175</td>\n      <td>1313524</td>\n      <td>2400.0</td>\n      <td>2400.0</td>\n      <td>36 months</td>\n      <td>15.96</td>\n      <td>84.33</td>\n      <td>3</td>\n      <td>15</td>\n      <td>11</td>\n      <td>...</td>\n      <td>IL</td>\n      <td>8.72</td>\n      <td>0.0</td>\n      <td>0.0</td>\n      <td>10.0</td>\n      <td>0.0</td>\n      <td>3003.653644</td>\n      <td>2400.00</td>\n      <td>0.00</td>\n      <td>0.0</td>\n    </tr>\n    <tr>\n      <th>3</th>\n      <td>1076863</td>\n      <td>1277178</td>\n      <td>10000.0</td>\n      <td>10000.0</td>\n      <td>36 months</td>\n      <td>13.49</td>\n      <td>339.31</td>\n      <td>3</td>\n      <td>11</td>\n      <td>11</td>\n      <td>...</td>\n      <td>CA</td>\n      <td>20.00</td>\n      <td>0.0</td>\n      <td>35.0</td>\n      <td>37.0</td>\n      <td>0.0</td>\n      <td>12226.302212</td>\n      <td>10000.00</td>\n      <td>16.97</td>\n      <td>0.0</td>\n    </tr>\n    <tr>\n      <th>4</th>\n      <td>1075358</td>\n      <td>1311748</td>\n      <td>3000.0</td>\n      <td>3000.0</td>\n      <td>60 months</td>\n      <td>12.69</td>\n      <td>67.79</td>\n      <td>2</td>\n      <td>10</td>\n      <td>1</td>\n      <td>...</td>\n      <td>OR</td>\n      <td>17.94</td>\n      <td>0.0</td>\n      <td>38.0</td>\n      <td>38.0</td>\n      <td>766.9</td>\n      <td>3242.170000</td>\n      <td>2233.10</td>\n      <td>0.00</td>\n      <td>0.0</td>\n    </tr>\n  </tbody>\n</table>\n<p>5 rows × 26 columns</p>\n</div>"
     },
     "execution_count": 31,
     "metadata": {},
     "output_type": "execute_result"
    }
   ],
   "source": [
    "df_indv.head(5)"
   ],
   "metadata": {
    "collapsed": false,
    "ExecuteTime": {
     "end_time": "2024-02-28T09:56:23.044352Z",
     "start_time": "2024-02-28T09:56:23.037458Z"
    }
   },
   "id": "90a04c09935d2693"
  },
  {
   "cell_type": "markdown",
   "source": [
    "# Term"
   ],
   "metadata": {
    "collapsed": false
   },
   "id": "c3af1f0a6fe7d626"
  },
  {
   "cell_type": "code",
   "execution_count": 32,
   "outputs": [
    {
     "data": {
      "text/plain": "0          36 months\n1          60 months\n2          36 months\n3          36 months\n4          60 months\n             ...    \n887374     36 months\n887375     36 months\n887376     60 months\n887377     60 months\n887378     36 months\nName: term, Length: 886868, dtype: object"
     },
     "execution_count": 32,
     "metadata": {},
     "output_type": "execute_result"
    }
   ],
   "source": [
    "df_indv['term']"
   ],
   "metadata": {
    "collapsed": false,
    "ExecuteTime": {
     "end_time": "2024-02-28T09:56:23.047107Z",
     "start_time": "2024-02-28T09:56:23.045256Z"
    }
   },
   "id": "327fa97e22f11c72"
  },
  {
   "cell_type": "code",
   "execution_count": 33,
   "outputs": [
    {
     "name": "stderr",
     "output_type": "stream",
     "text": [
      "/var/folders/97/w7m6hrnj5lldx6gxjw172mnm0000gn/T/ipykernel_60420/2965426749.py:1: SettingWithCopyWarning: \n",
      "A value is trying to be set on a copy of a slice from a DataFrame.\n",
      "Try using .loc[row_indexer,col_indexer] = value instead\n",
      "\n",
      "See the caveats in the documentation: https://pandas.pydata.org/pandas-docs/stable/user_guide/indexing.html#returning-a-view-versus-a-copy\n",
      "  df_indv['term'] = df_indv['term'].str.extract('(\\d+)').astype(int)\n"
     ]
    }
   ],
   "source": [
    "df_indv['term'] = df_indv['term'].str.extract('(\\d+)').astype(int)"
   ],
   "metadata": {
    "collapsed": false,
    "ExecuteTime": {
     "end_time": "2024-02-28T09:56:23.839916Z",
     "start_time": "2024-02-28T09:56:23.152742Z"
    }
   },
   "id": "77b1e3598f1c4c1c"
  },
  {
   "cell_type": "code",
   "execution_count": 34,
   "outputs": [
    {
     "data": {
      "text/plain": "0         36\n1         60\n2         36\n3         36\n4         60\n          ..\n887374    36\n887375    36\n887376    60\n887377    60\n887378    36\nName: term, Length: 886868, dtype: int64"
     },
     "execution_count": 34,
     "metadata": {},
     "output_type": "execute_result"
    }
   ],
   "source": [
    "df_indv['term']"
   ],
   "metadata": {
    "collapsed": false,
    "ExecuteTime": {
     "end_time": "2024-02-28T09:56:23.842677Z",
     "start_time": "2024-02-28T09:56:23.840982Z"
    }
   },
   "id": "8de96f35b61647e8"
  },
  {
   "cell_type": "markdown",
   "source": [
    "# Homeownership"
   ],
   "metadata": {
    "collapsed": false
   },
   "id": "231d8545beb8ab8c"
  },
  {
   "cell_type": "code",
   "execution_count": 35,
   "outputs": [
    {
     "data": {
      "text/plain": "['ANY', 'MORTGAGE', 'NONE', 'OTHER', 'OWN', 'RENT']"
     },
     "execution_count": 35,
     "metadata": {},
     "output_type": "execute_result"
    }
   ],
   "source": [
    "sorted(df_indv['home_ownership'].unique())"
   ],
   "metadata": {
    "collapsed": false,
    "ExecuteTime": {
     "end_time": "2024-02-28T09:56:23.868130Z",
     "start_time": "2024-02-28T09:56:23.855021Z"
    }
   },
   "id": "ac315db0b0f20a7b"
  },
  {
   "cell_type": "code",
   "execution_count": 36,
   "outputs": [],
   "source": [
    "homeownership = {\n",
    "    'ANY': 0,\n",
    "    'MORTGAGE': -1,\n",
    "    'NONE': 0,\n",
    "    'OTHER': 0,\n",
    "    'OWN': 2,\n",
    "    'RENT': 1\n",
    "}"
   ],
   "metadata": {
    "collapsed": false,
    "ExecuteTime": {
     "end_time": "2024-02-28T09:56:23.868414Z",
     "start_time": "2024-02-28T09:56:23.866136Z"
    }
   },
   "id": "e27f36d371afc74c"
  },
  {
   "cell_type": "code",
   "execution_count": 37,
   "outputs": [
    {
     "name": "stderr",
     "output_type": "stream",
     "text": [
      "/var/folders/97/w7m6hrnj5lldx6gxjw172mnm0000gn/T/ipykernel_60420/2652194804.py:1: SettingWithCopyWarning: \n",
      "A value is trying to be set on a copy of a slice from a DataFrame.\n",
      "Try using .loc[row_indexer,col_indexer] = value instead\n",
      "\n",
      "See the caveats in the documentation: https://pandas.pydata.org/pandas-docs/stable/user_guide/indexing.html#returning-a-view-versus-a-copy\n",
      "  df_indv['home_ownership'] = df_indv['home_ownership'].map(homeownership)\n"
     ]
    }
   ],
   "source": [
    "df_indv['home_ownership'] = df_indv['home_ownership'].map(homeownership)"
   ],
   "metadata": {
    "collapsed": false,
    "ExecuteTime": {
     "end_time": "2024-02-28T09:56:23.896631Z",
     "start_time": "2024-02-28T09:56:23.868498Z"
    }
   },
   "id": "b8562ee7c9075d11"
  },
  {
   "cell_type": "code",
   "execution_count": 38,
   "outputs": [
    {
     "data": {
      "text/plain": "        id  member_id  loan_amnt  funded_amnt  term  int_rate  installment  \\\n0  1077501    1296599     5000.0       5000.0    36     10.65       162.87   \n1  1077430    1314167     2500.0       2500.0    60     15.27        59.83   \n2  1077175    1313524     2400.0       2400.0    36     15.96        84.33   \n3  1076863    1277178    10000.0      10000.0    36     13.49       339.31   \n4  1075358    1311748     3000.0       3000.0    60     12.69        67.79   \n\n   grade  sub_grade  emp_length  ...  addr_state    dti delinq_2yrs  \\\n0      2          7          11  ...          AZ  27.65         0.0   \n1      3         14           0  ...          GA   1.00         0.0   \n2      3         15          11  ...          IL   8.72         0.0   \n3      3         11          11  ...          CA  20.00         0.0   \n4      2         10           1  ...          OR  17.94         0.0   \n\n  mths_since_last_delinq total_acc out_prncp   total_pymnt  total_rec_prncp  \\\n0                    0.0       9.0       0.0   5861.071414          5000.00   \n1                    0.0       4.0       0.0   1008.710000           456.46   \n2                    0.0      10.0       0.0   3003.653644          2400.00   \n3                   35.0      37.0       0.0  12226.302212         10000.00   \n4                   38.0      38.0     766.9   3242.170000          2233.10   \n\n   total_rec_late_fee  acc_now_delinq  \n0                0.00             0.0  \n1                0.00             0.0  \n2                0.00             0.0  \n3               16.97             0.0  \n4                0.00             0.0  \n\n[5 rows x 26 columns]",
      "text/html": "<div>\n<style scoped>\n    .dataframe tbody tr th:only-of-type {\n        vertical-align: middle;\n    }\n\n    .dataframe tbody tr th {\n        vertical-align: top;\n    }\n\n    .dataframe thead th {\n        text-align: right;\n    }\n</style>\n<table border=\"1\" class=\"dataframe\">\n  <thead>\n    <tr style=\"text-align: right;\">\n      <th></th>\n      <th>id</th>\n      <th>member_id</th>\n      <th>loan_amnt</th>\n      <th>funded_amnt</th>\n      <th>term</th>\n      <th>int_rate</th>\n      <th>installment</th>\n      <th>grade</th>\n      <th>sub_grade</th>\n      <th>emp_length</th>\n      <th>...</th>\n      <th>addr_state</th>\n      <th>dti</th>\n      <th>delinq_2yrs</th>\n      <th>mths_since_last_delinq</th>\n      <th>total_acc</th>\n      <th>out_prncp</th>\n      <th>total_pymnt</th>\n      <th>total_rec_prncp</th>\n      <th>total_rec_late_fee</th>\n      <th>acc_now_delinq</th>\n    </tr>\n  </thead>\n  <tbody>\n    <tr>\n      <th>0</th>\n      <td>1077501</td>\n      <td>1296599</td>\n      <td>5000.0</td>\n      <td>5000.0</td>\n      <td>36</td>\n      <td>10.65</td>\n      <td>162.87</td>\n      <td>2</td>\n      <td>7</td>\n      <td>11</td>\n      <td>...</td>\n      <td>AZ</td>\n      <td>27.65</td>\n      <td>0.0</td>\n      <td>0.0</td>\n      <td>9.0</td>\n      <td>0.0</td>\n      <td>5861.071414</td>\n      <td>5000.00</td>\n      <td>0.00</td>\n      <td>0.0</td>\n    </tr>\n    <tr>\n      <th>1</th>\n      <td>1077430</td>\n      <td>1314167</td>\n      <td>2500.0</td>\n      <td>2500.0</td>\n      <td>60</td>\n      <td>15.27</td>\n      <td>59.83</td>\n      <td>3</td>\n      <td>14</td>\n      <td>0</td>\n      <td>...</td>\n      <td>GA</td>\n      <td>1.00</td>\n      <td>0.0</td>\n      <td>0.0</td>\n      <td>4.0</td>\n      <td>0.0</td>\n      <td>1008.710000</td>\n      <td>456.46</td>\n      <td>0.00</td>\n      <td>0.0</td>\n    </tr>\n    <tr>\n      <th>2</th>\n      <td>1077175</td>\n      <td>1313524</td>\n      <td>2400.0</td>\n      <td>2400.0</td>\n      <td>36</td>\n      <td>15.96</td>\n      <td>84.33</td>\n      <td>3</td>\n      <td>15</td>\n      <td>11</td>\n      <td>...</td>\n      <td>IL</td>\n      <td>8.72</td>\n      <td>0.0</td>\n      <td>0.0</td>\n      <td>10.0</td>\n      <td>0.0</td>\n      <td>3003.653644</td>\n      <td>2400.00</td>\n      <td>0.00</td>\n      <td>0.0</td>\n    </tr>\n    <tr>\n      <th>3</th>\n      <td>1076863</td>\n      <td>1277178</td>\n      <td>10000.0</td>\n      <td>10000.0</td>\n      <td>36</td>\n      <td>13.49</td>\n      <td>339.31</td>\n      <td>3</td>\n      <td>11</td>\n      <td>11</td>\n      <td>...</td>\n      <td>CA</td>\n      <td>20.00</td>\n      <td>0.0</td>\n      <td>35.0</td>\n      <td>37.0</td>\n      <td>0.0</td>\n      <td>12226.302212</td>\n      <td>10000.00</td>\n      <td>16.97</td>\n      <td>0.0</td>\n    </tr>\n    <tr>\n      <th>4</th>\n      <td>1075358</td>\n      <td>1311748</td>\n      <td>3000.0</td>\n      <td>3000.0</td>\n      <td>60</td>\n      <td>12.69</td>\n      <td>67.79</td>\n      <td>2</td>\n      <td>10</td>\n      <td>1</td>\n      <td>...</td>\n      <td>OR</td>\n      <td>17.94</td>\n      <td>0.0</td>\n      <td>38.0</td>\n      <td>38.0</td>\n      <td>766.9</td>\n      <td>3242.170000</td>\n      <td>2233.10</td>\n      <td>0.00</td>\n      <td>0.0</td>\n    </tr>\n  </tbody>\n</table>\n<p>5 rows × 26 columns</p>\n</div>"
     },
     "execution_count": 38,
     "metadata": {},
     "output_type": "execute_result"
    }
   ],
   "source": [
    "df_indv.head(5)"
   ],
   "metadata": {
    "collapsed": false,
    "ExecuteTime": {
     "end_time": "2024-02-28T09:56:23.907597Z",
     "start_time": "2024-02-28T09:56:23.900782Z"
    }
   },
   "id": "258a9625389a2074"
  },
  {
   "cell_type": "markdown",
   "source": [
    "# Verification"
   ],
   "metadata": {
    "collapsed": false
   },
   "id": "85cc1dc305c7fe3d"
  },
  {
   "cell_type": "code",
   "execution_count": 39,
   "outputs": [
    {
     "data": {
      "text/plain": "['Not Verified', 'Source Verified', 'Verified']"
     },
     "execution_count": 39,
     "metadata": {},
     "output_type": "execute_result"
    }
   ],
   "source": [
    "sorted(df_indv['verification_status'].unique())"
   ],
   "metadata": {
    "collapsed": false,
    "ExecuteTime": {
     "end_time": "2024-02-28T09:56:23.939125Z",
     "start_time": "2024-02-28T09:56:23.919848Z"
    }
   },
   "id": "8c27520d3a7bbf3e"
  },
  {
   "cell_type": "code",
   "execution_count": 40,
   "outputs": [],
   "source": [
    "verification = {\n",
    "    'Not Verified' : -1,\n",
    "    'Source Verified':1,\n",
    "    'Verified': 2\n",
    "}"
   ],
   "metadata": {
    "collapsed": false,
    "ExecuteTime": {
     "end_time": "2024-02-28T09:56:23.939235Z",
     "start_time": "2024-02-28T09:56:23.935998Z"
    }
   },
   "id": "66cf71eb7d742bc4"
  },
  {
   "cell_type": "code",
   "execution_count": 41,
   "outputs": [
    {
     "name": "stderr",
     "output_type": "stream",
     "text": [
      "/var/folders/97/w7m6hrnj5lldx6gxjw172mnm0000gn/T/ipykernel_60420/1413696828.py:1: SettingWithCopyWarning: \n",
      "A value is trying to be set on a copy of a slice from a DataFrame.\n",
      "Try using .loc[row_indexer,col_indexer] = value instead\n",
      "\n",
      "See the caveats in the documentation: https://pandas.pydata.org/pandas-docs/stable/user_guide/indexing.html#returning-a-view-versus-a-copy\n",
      "  df_indv['verification_status'] = df_indv['verification_status'].map(verification)\n"
     ]
    }
   ],
   "source": [
    "df_indv['verification_status'] = df_indv['verification_status'].map(verification)"
   ],
   "metadata": {
    "collapsed": false,
    "ExecuteTime": {
     "end_time": "2024-02-28T09:56:23.966677Z",
     "start_time": "2024-02-28T09:56:23.938938Z"
    }
   },
   "id": "56888fd79140c2a8"
  },
  {
   "cell_type": "code",
   "execution_count": 42,
   "outputs": [
    {
     "data": {
      "text/plain": "        id  member_id  loan_amnt  funded_amnt  term  int_rate  installment  \\\n0  1077501    1296599     5000.0       5000.0    36     10.65       162.87   \n1  1077430    1314167     2500.0       2500.0    60     15.27        59.83   \n2  1077175    1313524     2400.0       2400.0    36     15.96        84.33   \n3  1076863    1277178    10000.0      10000.0    36     13.49       339.31   \n4  1075358    1311748     3000.0       3000.0    60     12.69        67.79   \n\n   grade  sub_grade  emp_length  ...  addr_state    dti  delinq_2yrs  \\\n0      2          7          11  ...          AZ  27.65          0.0   \n1      3         14           0  ...          GA   1.00          0.0   \n2      3         15          11  ...          IL   8.72          0.0   \n3      3         11          11  ...          CA  20.00          0.0   \n4      2         10           1  ...          OR  17.94          0.0   \n\n  mths_since_last_delinq total_acc out_prncp   total_pymnt  total_rec_prncp  \\\n0                    0.0       9.0       0.0   5861.071414          5000.00   \n1                    0.0       4.0       0.0   1008.710000           456.46   \n2                    0.0      10.0       0.0   3003.653644          2400.00   \n3                   35.0      37.0       0.0  12226.302212         10000.00   \n4                   38.0      38.0     766.9   3242.170000          2233.10   \n\n   total_rec_late_fee  acc_now_delinq  \n0                0.00             0.0  \n1                0.00             0.0  \n2                0.00             0.0  \n3               16.97             0.0  \n4                0.00             0.0  \n\n[5 rows x 26 columns]",
      "text/html": "<div>\n<style scoped>\n    .dataframe tbody tr th:only-of-type {\n        vertical-align: middle;\n    }\n\n    .dataframe tbody tr th {\n        vertical-align: top;\n    }\n\n    .dataframe thead th {\n        text-align: right;\n    }\n</style>\n<table border=\"1\" class=\"dataframe\">\n  <thead>\n    <tr style=\"text-align: right;\">\n      <th></th>\n      <th>id</th>\n      <th>member_id</th>\n      <th>loan_amnt</th>\n      <th>funded_amnt</th>\n      <th>term</th>\n      <th>int_rate</th>\n      <th>installment</th>\n      <th>grade</th>\n      <th>sub_grade</th>\n      <th>emp_length</th>\n      <th>...</th>\n      <th>addr_state</th>\n      <th>dti</th>\n      <th>delinq_2yrs</th>\n      <th>mths_since_last_delinq</th>\n      <th>total_acc</th>\n      <th>out_prncp</th>\n      <th>total_pymnt</th>\n      <th>total_rec_prncp</th>\n      <th>total_rec_late_fee</th>\n      <th>acc_now_delinq</th>\n    </tr>\n  </thead>\n  <tbody>\n    <tr>\n      <th>0</th>\n      <td>1077501</td>\n      <td>1296599</td>\n      <td>5000.0</td>\n      <td>5000.0</td>\n      <td>36</td>\n      <td>10.65</td>\n      <td>162.87</td>\n      <td>2</td>\n      <td>7</td>\n      <td>11</td>\n      <td>...</td>\n      <td>AZ</td>\n      <td>27.65</td>\n      <td>0.0</td>\n      <td>0.0</td>\n      <td>9.0</td>\n      <td>0.0</td>\n      <td>5861.071414</td>\n      <td>5000.00</td>\n      <td>0.00</td>\n      <td>0.0</td>\n    </tr>\n    <tr>\n      <th>1</th>\n      <td>1077430</td>\n      <td>1314167</td>\n      <td>2500.0</td>\n      <td>2500.0</td>\n      <td>60</td>\n      <td>15.27</td>\n      <td>59.83</td>\n      <td>3</td>\n      <td>14</td>\n      <td>0</td>\n      <td>...</td>\n      <td>GA</td>\n      <td>1.00</td>\n      <td>0.0</td>\n      <td>0.0</td>\n      <td>4.0</td>\n      <td>0.0</td>\n      <td>1008.710000</td>\n      <td>456.46</td>\n      <td>0.00</td>\n      <td>0.0</td>\n    </tr>\n    <tr>\n      <th>2</th>\n      <td>1077175</td>\n      <td>1313524</td>\n      <td>2400.0</td>\n      <td>2400.0</td>\n      <td>36</td>\n      <td>15.96</td>\n      <td>84.33</td>\n      <td>3</td>\n      <td>15</td>\n      <td>11</td>\n      <td>...</td>\n      <td>IL</td>\n      <td>8.72</td>\n      <td>0.0</td>\n      <td>0.0</td>\n      <td>10.0</td>\n      <td>0.0</td>\n      <td>3003.653644</td>\n      <td>2400.00</td>\n      <td>0.00</td>\n      <td>0.0</td>\n    </tr>\n    <tr>\n      <th>3</th>\n      <td>1076863</td>\n      <td>1277178</td>\n      <td>10000.0</td>\n      <td>10000.0</td>\n      <td>36</td>\n      <td>13.49</td>\n      <td>339.31</td>\n      <td>3</td>\n      <td>11</td>\n      <td>11</td>\n      <td>...</td>\n      <td>CA</td>\n      <td>20.00</td>\n      <td>0.0</td>\n      <td>35.0</td>\n      <td>37.0</td>\n      <td>0.0</td>\n      <td>12226.302212</td>\n      <td>10000.00</td>\n      <td>16.97</td>\n      <td>0.0</td>\n    </tr>\n    <tr>\n      <th>4</th>\n      <td>1075358</td>\n      <td>1311748</td>\n      <td>3000.0</td>\n      <td>3000.0</td>\n      <td>60</td>\n      <td>12.69</td>\n      <td>67.79</td>\n      <td>2</td>\n      <td>10</td>\n      <td>1</td>\n      <td>...</td>\n      <td>OR</td>\n      <td>17.94</td>\n      <td>0.0</td>\n      <td>38.0</td>\n      <td>38.0</td>\n      <td>766.9</td>\n      <td>3242.170000</td>\n      <td>2233.10</td>\n      <td>0.00</td>\n      <td>0.0</td>\n    </tr>\n  </tbody>\n</table>\n<p>5 rows × 26 columns</p>\n</div>"
     },
     "execution_count": 42,
     "metadata": {},
     "output_type": "execute_result"
    }
   ],
   "source": [
    "df_indv.head(5)"
   ],
   "metadata": {
    "collapsed": false,
    "ExecuteTime": {
     "end_time": "2024-02-28T09:56:23.974924Z",
     "start_time": "2024-02-28T09:56:23.967953Z"
    }
   },
   "id": "821be8dc6bb6cd84"
  },
  {
   "cell_type": "markdown",
   "source": [
    "# Loan status -> default"
   ],
   "metadata": {
    "collapsed": false
   },
   "id": "8dfa95131ee9b936"
  },
  {
   "cell_type": "code",
   "execution_count": 43,
   "outputs": [
    {
     "data": {
      "text/plain": "['Charged Off',\n 'Current',\n 'Default',\n 'Does not meet the credit policy. Status:Charged Off',\n 'Does not meet the credit policy. Status:Fully Paid',\n 'Fully Paid',\n 'In Grace Period',\n 'Issued',\n 'Late (16-30 days)',\n 'Late (31-120 days)']"
     },
     "execution_count": 43,
     "metadata": {},
     "output_type": "execute_result"
    }
   ],
   "source": [
    "sorted(df_indv['loan_status'].unique())"
   ],
   "metadata": {
    "collapsed": false,
    "ExecuteTime": {
     "end_time": "2024-02-28T09:56:24.003413Z",
     "start_time": "2024-02-28T09:56:23.987588Z"
    }
   },
   "id": "78f86063f1346830"
  },
  {
   "cell_type": "code",
   "execution_count": 44,
   "outputs": [],
   "source": [
    "l_stat = {\n",
    "    'Charged Off': 1,\n",
    "    'Default':1,\n",
    "    'Does not meet the credit policy. Status:Charged Off':0,\n",
    "    'Late (16-30 days)':1,\n",
    "    'Late (31-120 days)': 1,\n",
    " 'Current': 0,\n",
    " 'Does not meet the credit policy. Status:Fully Paid' : 0,\n",
    " 'Fully Paid': 0,\n",
    " 'In Grace Period':0,\n",
    " 'Issued': 0,\n",
    "}"
   ],
   "metadata": {
    "collapsed": false,
    "ExecuteTime": {
     "end_time": "2024-02-28T09:56:24.003742Z",
     "start_time": "2024-02-28T09:56:24.000490Z"
    }
   },
   "id": "8df26bd30d923bc"
  },
  {
   "cell_type": "code",
   "execution_count": 45,
   "outputs": [
    {
     "name": "stderr",
     "output_type": "stream",
     "text": [
      "/var/folders/97/w7m6hrnj5lldx6gxjw172mnm0000gn/T/ipykernel_60420/382645031.py:1: SettingWithCopyWarning: \n",
      "A value is trying to be set on a copy of a slice from a DataFrame.\n",
      "Try using .loc[row_indexer,col_indexer] = value instead\n",
      "\n",
      "See the caveats in the documentation: https://pandas.pydata.org/pandas-docs/stable/user_guide/indexing.html#returning-a-view-versus-a-copy\n",
      "  df_indv['loan_status'] = df_indv['loan_status'].map(l_stat)\n"
     ]
    }
   ],
   "source": [
    "df_indv['loan_status'] = df_indv['loan_status'].map(l_stat)"
   ],
   "metadata": {
    "collapsed": false,
    "ExecuteTime": {
     "end_time": "2024-02-28T09:56:24.028911Z",
     "start_time": "2024-02-28T09:56:24.003092Z"
    }
   },
   "id": "95aed680ee770e73"
  },
  {
   "cell_type": "code",
   "execution_count": 46,
   "outputs": [
    {
     "data": {
      "text/plain": "         id  member_id  loan_amnt  funded_amnt  term  int_rate  installment  \\\n0   1077501    1296599     5000.0       5000.0    36     10.65       162.87   \n1   1077430    1314167     2500.0       2500.0    60     15.27        59.83   \n2   1077175    1313524     2400.0       2400.0    36     15.96        84.33   \n3   1076863    1277178    10000.0      10000.0    36     13.49       339.31   \n4   1075358    1311748     3000.0       3000.0    60     12.69        67.79   \n5   1075269    1311441     5000.0       5000.0    36      7.90       156.46   \n6   1069639    1304742     7000.0       7000.0    60     15.96       170.08   \n7   1072053    1288686     3000.0       3000.0    36     18.64       109.43   \n8   1071795    1306957     5600.0       5600.0    60     21.28       152.39   \n9   1071570    1306721     5375.0       5375.0    60     12.69       121.45   \n10  1070078    1305201     6500.0       6500.0    60     14.65       153.45   \n11  1069908    1305008    12000.0      12000.0    36     12.69       402.54   \n12  1064687    1298717     9000.0       9000.0    36     13.49       305.38   \n13  1069866    1304956     3000.0       3000.0    36      9.91        96.68   \n14  1069057    1303503    10000.0      10000.0    36     10.65       325.74   \n\n    grade  sub_grade  emp_length  ...  addr_state    dti  delinq_2yrs  \\\n0       2          7          11  ...          AZ  27.65          0.0   \n1       3         14           0  ...          GA   1.00          0.0   \n2       3         15          11  ...          IL   8.72          0.0   \n3       3         11          11  ...          CA  20.00          0.0   \n4       2         10           1  ...          OR  17.94          0.0   \n5       1          4           3  ...          AZ  11.20          0.0   \n6       3         15           8  ...          NC  23.51          0.0   \n7       5         21           9  ...          CA   5.35          0.0   \n8       6         27           4  ...          CA   5.55          0.0   \n9       2         10           0  ...          TX  18.08          0.0   \n10      3         13           5  ...          AZ  16.12          0.0   \n11      2         10          11  ...          CA  10.78          0.0   \n12      3         11           0  ...          VA  10.08          0.0   \n13      2          6           3  ...          IL  12.56          0.0   \n14      2          7           3  ...          CA   7.06          0.0   \n\n    mths_since_last_delinq total_acc out_prncp   total_pymnt  total_rec_prncp  \\\n0                      0.0       9.0      0.00   5861.071414          5000.00   \n1                      0.0       4.0      0.00   1008.710000           456.46   \n2                      0.0      10.0      0.00   3003.653644          2400.00   \n3                     35.0      37.0      0.00  12226.302212         10000.00   \n4                     38.0      38.0    766.90   3242.170000          2233.10   \n5                      0.0      12.0      0.00   5631.377753          5000.00   \n6                      0.0      11.0   1889.15   8136.840000          5110.85   \n7                      0.0       4.0      0.00   3938.144334          3000.00   \n8                      0.0      13.0      0.00    646.020000           162.02   \n9                      0.0       3.0      0.00   1476.190000           673.48   \n10                     0.0      23.0      0.00   7677.520000          6500.00   \n11                     0.0      34.0      0.00  13943.080000         12000.00   \n12                     0.0       9.0      0.00   2270.700000          1256.14   \n13                     0.0      11.0      0.00   3478.981915          3000.00   \n14                     0.0      29.0      0.00   7471.990000          5433.47   \n\n    total_rec_late_fee  acc_now_delinq  \n0                 0.00             0.0  \n1                 0.00             0.0  \n2                 0.00             0.0  \n3                16.97             0.0  \n4                 0.00             0.0  \n5                 0.00             0.0  \n6                 0.00             0.0  \n7                 0.00             0.0  \n8                 0.00             0.0  \n9                 0.00             0.0  \n10                0.00             0.0  \n11                0.00             0.0  \n12                0.00             0.0  \n13                0.00             0.0  \n14                0.00             0.0  \n\n[15 rows x 26 columns]",
      "text/html": "<div>\n<style scoped>\n    .dataframe tbody tr th:only-of-type {\n        vertical-align: middle;\n    }\n\n    .dataframe tbody tr th {\n        vertical-align: top;\n    }\n\n    .dataframe thead th {\n        text-align: right;\n    }\n</style>\n<table border=\"1\" class=\"dataframe\">\n  <thead>\n    <tr style=\"text-align: right;\">\n      <th></th>\n      <th>id</th>\n      <th>member_id</th>\n      <th>loan_amnt</th>\n      <th>funded_amnt</th>\n      <th>term</th>\n      <th>int_rate</th>\n      <th>installment</th>\n      <th>grade</th>\n      <th>sub_grade</th>\n      <th>emp_length</th>\n      <th>...</th>\n      <th>addr_state</th>\n      <th>dti</th>\n      <th>delinq_2yrs</th>\n      <th>mths_since_last_delinq</th>\n      <th>total_acc</th>\n      <th>out_prncp</th>\n      <th>total_pymnt</th>\n      <th>total_rec_prncp</th>\n      <th>total_rec_late_fee</th>\n      <th>acc_now_delinq</th>\n    </tr>\n  </thead>\n  <tbody>\n    <tr>\n      <th>0</th>\n      <td>1077501</td>\n      <td>1296599</td>\n      <td>5000.0</td>\n      <td>5000.0</td>\n      <td>36</td>\n      <td>10.65</td>\n      <td>162.87</td>\n      <td>2</td>\n      <td>7</td>\n      <td>11</td>\n      <td>...</td>\n      <td>AZ</td>\n      <td>27.65</td>\n      <td>0.0</td>\n      <td>0.0</td>\n      <td>9.0</td>\n      <td>0.00</td>\n      <td>5861.071414</td>\n      <td>5000.00</td>\n      <td>0.00</td>\n      <td>0.0</td>\n    </tr>\n    <tr>\n      <th>1</th>\n      <td>1077430</td>\n      <td>1314167</td>\n      <td>2500.0</td>\n      <td>2500.0</td>\n      <td>60</td>\n      <td>15.27</td>\n      <td>59.83</td>\n      <td>3</td>\n      <td>14</td>\n      <td>0</td>\n      <td>...</td>\n      <td>GA</td>\n      <td>1.00</td>\n      <td>0.0</td>\n      <td>0.0</td>\n      <td>4.0</td>\n      <td>0.00</td>\n      <td>1008.710000</td>\n      <td>456.46</td>\n      <td>0.00</td>\n      <td>0.0</td>\n    </tr>\n    <tr>\n      <th>2</th>\n      <td>1077175</td>\n      <td>1313524</td>\n      <td>2400.0</td>\n      <td>2400.0</td>\n      <td>36</td>\n      <td>15.96</td>\n      <td>84.33</td>\n      <td>3</td>\n      <td>15</td>\n      <td>11</td>\n      <td>...</td>\n      <td>IL</td>\n      <td>8.72</td>\n      <td>0.0</td>\n      <td>0.0</td>\n      <td>10.0</td>\n      <td>0.00</td>\n      <td>3003.653644</td>\n      <td>2400.00</td>\n      <td>0.00</td>\n      <td>0.0</td>\n    </tr>\n    <tr>\n      <th>3</th>\n      <td>1076863</td>\n      <td>1277178</td>\n      <td>10000.0</td>\n      <td>10000.0</td>\n      <td>36</td>\n      <td>13.49</td>\n      <td>339.31</td>\n      <td>3</td>\n      <td>11</td>\n      <td>11</td>\n      <td>...</td>\n      <td>CA</td>\n      <td>20.00</td>\n      <td>0.0</td>\n      <td>35.0</td>\n      <td>37.0</td>\n      <td>0.00</td>\n      <td>12226.302212</td>\n      <td>10000.00</td>\n      <td>16.97</td>\n      <td>0.0</td>\n    </tr>\n    <tr>\n      <th>4</th>\n      <td>1075358</td>\n      <td>1311748</td>\n      <td>3000.0</td>\n      <td>3000.0</td>\n      <td>60</td>\n      <td>12.69</td>\n      <td>67.79</td>\n      <td>2</td>\n      <td>10</td>\n      <td>1</td>\n      <td>...</td>\n      <td>OR</td>\n      <td>17.94</td>\n      <td>0.0</td>\n      <td>38.0</td>\n      <td>38.0</td>\n      <td>766.90</td>\n      <td>3242.170000</td>\n      <td>2233.10</td>\n      <td>0.00</td>\n      <td>0.0</td>\n    </tr>\n    <tr>\n      <th>5</th>\n      <td>1075269</td>\n      <td>1311441</td>\n      <td>5000.0</td>\n      <td>5000.0</td>\n      <td>36</td>\n      <td>7.90</td>\n      <td>156.46</td>\n      <td>1</td>\n      <td>4</td>\n      <td>3</td>\n      <td>...</td>\n      <td>AZ</td>\n      <td>11.20</td>\n      <td>0.0</td>\n      <td>0.0</td>\n      <td>12.0</td>\n      <td>0.00</td>\n      <td>5631.377753</td>\n      <td>5000.00</td>\n      <td>0.00</td>\n      <td>0.0</td>\n    </tr>\n    <tr>\n      <th>6</th>\n      <td>1069639</td>\n      <td>1304742</td>\n      <td>7000.0</td>\n      <td>7000.0</td>\n      <td>60</td>\n      <td>15.96</td>\n      <td>170.08</td>\n      <td>3</td>\n      <td>15</td>\n      <td>8</td>\n      <td>...</td>\n      <td>NC</td>\n      <td>23.51</td>\n      <td>0.0</td>\n      <td>0.0</td>\n      <td>11.0</td>\n      <td>1889.15</td>\n      <td>8136.840000</td>\n      <td>5110.85</td>\n      <td>0.00</td>\n      <td>0.0</td>\n    </tr>\n    <tr>\n      <th>7</th>\n      <td>1072053</td>\n      <td>1288686</td>\n      <td>3000.0</td>\n      <td>3000.0</td>\n      <td>36</td>\n      <td>18.64</td>\n      <td>109.43</td>\n      <td>5</td>\n      <td>21</td>\n      <td>9</td>\n      <td>...</td>\n      <td>CA</td>\n      <td>5.35</td>\n      <td>0.0</td>\n      <td>0.0</td>\n      <td>4.0</td>\n      <td>0.00</td>\n      <td>3938.144334</td>\n      <td>3000.00</td>\n      <td>0.00</td>\n      <td>0.0</td>\n    </tr>\n    <tr>\n      <th>8</th>\n      <td>1071795</td>\n      <td>1306957</td>\n      <td>5600.0</td>\n      <td>5600.0</td>\n      <td>60</td>\n      <td>21.28</td>\n      <td>152.39</td>\n      <td>6</td>\n      <td>27</td>\n      <td>4</td>\n      <td>...</td>\n      <td>CA</td>\n      <td>5.55</td>\n      <td>0.0</td>\n      <td>0.0</td>\n      <td>13.0</td>\n      <td>0.00</td>\n      <td>646.020000</td>\n      <td>162.02</td>\n      <td>0.00</td>\n      <td>0.0</td>\n    </tr>\n    <tr>\n      <th>9</th>\n      <td>1071570</td>\n      <td>1306721</td>\n      <td>5375.0</td>\n      <td>5375.0</td>\n      <td>60</td>\n      <td>12.69</td>\n      <td>121.45</td>\n      <td>2</td>\n      <td>10</td>\n      <td>0</td>\n      <td>...</td>\n      <td>TX</td>\n      <td>18.08</td>\n      <td>0.0</td>\n      <td>0.0</td>\n      <td>3.0</td>\n      <td>0.00</td>\n      <td>1476.190000</td>\n      <td>673.48</td>\n      <td>0.00</td>\n      <td>0.0</td>\n    </tr>\n    <tr>\n      <th>10</th>\n      <td>1070078</td>\n      <td>1305201</td>\n      <td>6500.0</td>\n      <td>6500.0</td>\n      <td>60</td>\n      <td>14.65</td>\n      <td>153.45</td>\n      <td>3</td>\n      <td>13</td>\n      <td>5</td>\n      <td>...</td>\n      <td>AZ</td>\n      <td>16.12</td>\n      <td>0.0</td>\n      <td>0.0</td>\n      <td>23.0</td>\n      <td>0.00</td>\n      <td>7677.520000</td>\n      <td>6500.00</td>\n      <td>0.00</td>\n      <td>0.0</td>\n    </tr>\n    <tr>\n      <th>11</th>\n      <td>1069908</td>\n      <td>1305008</td>\n      <td>12000.0</td>\n      <td>12000.0</td>\n      <td>36</td>\n      <td>12.69</td>\n      <td>402.54</td>\n      <td>2</td>\n      <td>10</td>\n      <td>11</td>\n      <td>...</td>\n      <td>CA</td>\n      <td>10.78</td>\n      <td>0.0</td>\n      <td>0.0</td>\n      <td>34.0</td>\n      <td>0.00</td>\n      <td>13943.080000</td>\n      <td>12000.00</td>\n      <td>0.00</td>\n      <td>0.0</td>\n    </tr>\n    <tr>\n      <th>12</th>\n      <td>1064687</td>\n      <td>1298717</td>\n      <td>9000.0</td>\n      <td>9000.0</td>\n      <td>36</td>\n      <td>13.49</td>\n      <td>305.38</td>\n      <td>3</td>\n      <td>11</td>\n      <td>0</td>\n      <td>...</td>\n      <td>VA</td>\n      <td>10.08</td>\n      <td>0.0</td>\n      <td>0.0</td>\n      <td>9.0</td>\n      <td>0.00</td>\n      <td>2270.700000</td>\n      <td>1256.14</td>\n      <td>0.00</td>\n      <td>0.0</td>\n    </tr>\n    <tr>\n      <th>13</th>\n      <td>1069866</td>\n      <td>1304956</td>\n      <td>3000.0</td>\n      <td>3000.0</td>\n      <td>36</td>\n      <td>9.91</td>\n      <td>96.68</td>\n      <td>2</td>\n      <td>6</td>\n      <td>3</td>\n      <td>...</td>\n      <td>IL</td>\n      <td>12.56</td>\n      <td>0.0</td>\n      <td>0.0</td>\n      <td>11.0</td>\n      <td>0.00</td>\n      <td>3478.981915</td>\n      <td>3000.00</td>\n      <td>0.00</td>\n      <td>0.0</td>\n    </tr>\n    <tr>\n      <th>14</th>\n      <td>1069057</td>\n      <td>1303503</td>\n      <td>10000.0</td>\n      <td>10000.0</td>\n      <td>36</td>\n      <td>10.65</td>\n      <td>325.74</td>\n      <td>2</td>\n      <td>7</td>\n      <td>3</td>\n      <td>...</td>\n      <td>CA</td>\n      <td>7.06</td>\n      <td>0.0</td>\n      <td>0.0</td>\n      <td>29.0</td>\n      <td>0.00</td>\n      <td>7471.990000</td>\n      <td>5433.47</td>\n      <td>0.00</td>\n      <td>0.0</td>\n    </tr>\n  </tbody>\n</table>\n<p>15 rows × 26 columns</p>\n</div>"
     },
     "execution_count": 46,
     "metadata": {},
     "output_type": "execute_result"
    }
   ],
   "source": [
    "df_indv.head(15)"
   ],
   "metadata": {
    "collapsed": false,
    "ExecuteTime": {
     "end_time": "2024-02-28T09:56:24.039969Z",
     "start_time": "2024-02-28T09:56:24.029005Z"
    }
   },
   "id": "3d3d4b6cadd4c1f6"
  },
  {
   "cell_type": "markdown",
   "source": [
    "# payment plan"
   ],
   "metadata": {
    "collapsed": false
   },
   "id": "f32053ef00429455"
  },
  {
   "cell_type": "code",
   "execution_count": 47,
   "outputs": [
    {
     "data": {
      "text/plain": "['n', 'y']"
     },
     "execution_count": 47,
     "metadata": {},
     "output_type": "execute_result"
    }
   ],
   "source": [
    "sorted(df_indv['pymnt_plan'].unique())"
   ],
   "metadata": {
    "collapsed": false,
    "ExecuteTime": {
     "end_time": "2024-02-28T09:56:24.057018Z",
     "start_time": "2024-02-28T09:56:24.050951Z"
    }
   },
   "id": "32f8ce7ad79b134d"
  },
  {
   "cell_type": "code",
   "execution_count": 48,
   "outputs": [],
   "source": [
    "paym_plan = {\n",
    "    'n' : 0,\n",
    "    'y' : 1\n",
    "}"
   ],
   "metadata": {
    "collapsed": false,
    "ExecuteTime": {
     "end_time": "2024-02-28T09:56:24.068345Z",
     "start_time": "2024-02-28T09:56:24.057142Z"
    }
   },
   "id": "1850ce3a8fd5936a"
  },
  {
   "cell_type": "code",
   "execution_count": 49,
   "outputs": [
    {
     "name": "stderr",
     "output_type": "stream",
     "text": [
      "/var/folders/97/w7m6hrnj5lldx6gxjw172mnm0000gn/T/ipykernel_60420/3211961842.py:1: SettingWithCopyWarning: \n",
      "A value is trying to be set on a copy of a slice from a DataFrame.\n",
      "Try using .loc[row_indexer,col_indexer] = value instead\n",
      "\n",
      "See the caveats in the documentation: https://pandas.pydata.org/pandas-docs/stable/user_guide/indexing.html#returning-a-view-versus-a-copy\n",
      "  df_indv['pymnt_plan'] = df_indv['pymnt_plan'].map(paym_plan)\n"
     ]
    }
   ],
   "source": [
    "df_indv['pymnt_plan'] = df_indv['pymnt_plan'].map(paym_plan)"
   ],
   "metadata": {
    "collapsed": false,
    "ExecuteTime": {
     "end_time": "2024-02-28T09:56:24.076475Z",
     "start_time": "2024-02-28T09:56:24.059300Z"
    }
   },
   "id": "8e482ab28396148e"
  },
  {
   "cell_type": "markdown",
   "source": [
    "# Purpose"
   ],
   "metadata": {
    "collapsed": false
   },
   "id": "f3ac87d69c8f9dee"
  },
  {
   "cell_type": "code",
   "execution_count": 50,
   "outputs": [
    {
     "data": {
      "text/plain": "['car',\n 'credit_card',\n 'debt_consolidation',\n 'educational',\n 'home_improvement',\n 'house',\n 'major_purchase',\n 'medical',\n 'moving',\n 'other',\n 'renewable_energy',\n 'small_business',\n 'vacation',\n 'wedding']"
     },
     "execution_count": 50,
     "metadata": {},
     "output_type": "execute_result"
    }
   ],
   "source": [
    "sorted(df_indv['purpose'].unique())"
   ],
   "metadata": {
    "collapsed": false,
    "ExecuteTime": {
     "end_time": "2024-02-28T09:56:24.103462Z",
     "start_time": "2024-02-28T09:56:24.088947Z"
    }
   },
   "id": "79e411ae5fb6fbc4"
  },
  {
   "cell_type": "code",
   "execution_count": 51,
   "outputs": [
    {
     "name": "stderr",
     "output_type": "stream",
     "text": [
      "/var/folders/97/w7m6hrnj5lldx6gxjw172mnm0000gn/T/ipykernel_60420/2936455858.py:4: SettingWithCopyWarning: \n",
      "A value is trying to be set on a copy of a slice from a DataFrame.\n",
      "Try using .loc[row_indexer,col_indexer] = value instead\n",
      "\n",
      "See the caveats in the documentation: https://pandas.pydata.org/pandas-docs/stable/user_guide/indexing.html#returning-a-view-versus-a-copy\n",
      "  df_indv[col] = le.transform(df_indv[col])\n",
      "/var/folders/97/w7m6hrnj5lldx6gxjw172mnm0000gn/T/ipykernel_60420/2936455858.py:4: SettingWithCopyWarning: \n",
      "A value is trying to be set on a copy of a slice from a DataFrame.\n",
      "Try using .loc[row_indexer,col_indexer] = value instead\n",
      "\n",
      "See the caveats in the documentation: https://pandas.pydata.org/pandas-docs/stable/user_guide/indexing.html#returning-a-view-versus-a-copy\n",
      "  df_indv[col] = le.transform(df_indv[col])\n"
     ]
    },
    {
     "data": {
      "text/plain": "        id  member_id  loan_amnt  funded_amnt  term  int_rate  installment  \\\n0  1077501    1296599     5000.0       5000.0    36     10.65       162.87   \n1  1077430    1314167     2500.0       2500.0    60     15.27        59.83   \n2  1077175    1313524     2400.0       2400.0    36     15.96        84.33   \n3  1076863    1277178    10000.0      10000.0    36     13.49       339.31   \n4  1075358    1311748     3000.0       3000.0    60     12.69        67.79   \n\n   grade  sub_grade  emp_length  ...  addr_state    dti  delinq_2yrs  \\\n0      2          7          11  ...           3  27.65          0.0   \n1      3         14           0  ...          10   1.00          0.0   \n2      3         15          11  ...          14   8.72          0.0   \n3      3         11          11  ...           4  20.00          0.0   \n4      2         10           1  ...          37  17.94          0.0   \n\n   mths_since_last_delinq  total_acc  out_prncp   total_pymnt  \\\n0                     0.0        9.0        0.0   5861.071414   \n1                     0.0        4.0        0.0   1008.710000   \n2                     0.0       10.0        0.0   3003.653644   \n3                    35.0       37.0        0.0  12226.302212   \n4                    38.0       38.0      766.9   3242.170000   \n\n   total_rec_prncp  total_rec_late_fee  acc_now_delinq  \n0          5000.00                0.00             0.0  \n1           456.46                0.00             0.0  \n2          2400.00                0.00             0.0  \n3         10000.00               16.97             0.0  \n4          2233.10                0.00             0.0  \n\n[5 rows x 26 columns]",
      "text/html": "<div>\n<style scoped>\n    .dataframe tbody tr th:only-of-type {\n        vertical-align: middle;\n    }\n\n    .dataframe tbody tr th {\n        vertical-align: top;\n    }\n\n    .dataframe thead th {\n        text-align: right;\n    }\n</style>\n<table border=\"1\" class=\"dataframe\">\n  <thead>\n    <tr style=\"text-align: right;\">\n      <th></th>\n      <th>id</th>\n      <th>member_id</th>\n      <th>loan_amnt</th>\n      <th>funded_amnt</th>\n      <th>term</th>\n      <th>int_rate</th>\n      <th>installment</th>\n      <th>grade</th>\n      <th>sub_grade</th>\n      <th>emp_length</th>\n      <th>...</th>\n      <th>addr_state</th>\n      <th>dti</th>\n      <th>delinq_2yrs</th>\n      <th>mths_since_last_delinq</th>\n      <th>total_acc</th>\n      <th>out_prncp</th>\n      <th>total_pymnt</th>\n      <th>total_rec_prncp</th>\n      <th>total_rec_late_fee</th>\n      <th>acc_now_delinq</th>\n    </tr>\n  </thead>\n  <tbody>\n    <tr>\n      <th>0</th>\n      <td>1077501</td>\n      <td>1296599</td>\n      <td>5000.0</td>\n      <td>5000.0</td>\n      <td>36</td>\n      <td>10.65</td>\n      <td>162.87</td>\n      <td>2</td>\n      <td>7</td>\n      <td>11</td>\n      <td>...</td>\n      <td>3</td>\n      <td>27.65</td>\n      <td>0.0</td>\n      <td>0.0</td>\n      <td>9.0</td>\n      <td>0.0</td>\n      <td>5861.071414</td>\n      <td>5000.00</td>\n      <td>0.00</td>\n      <td>0.0</td>\n    </tr>\n    <tr>\n      <th>1</th>\n      <td>1077430</td>\n      <td>1314167</td>\n      <td>2500.0</td>\n      <td>2500.0</td>\n      <td>60</td>\n      <td>15.27</td>\n      <td>59.83</td>\n      <td>3</td>\n      <td>14</td>\n      <td>0</td>\n      <td>...</td>\n      <td>10</td>\n      <td>1.00</td>\n      <td>0.0</td>\n      <td>0.0</td>\n      <td>4.0</td>\n      <td>0.0</td>\n      <td>1008.710000</td>\n      <td>456.46</td>\n      <td>0.00</td>\n      <td>0.0</td>\n    </tr>\n    <tr>\n      <th>2</th>\n      <td>1077175</td>\n      <td>1313524</td>\n      <td>2400.0</td>\n      <td>2400.0</td>\n      <td>36</td>\n      <td>15.96</td>\n      <td>84.33</td>\n      <td>3</td>\n      <td>15</td>\n      <td>11</td>\n      <td>...</td>\n      <td>14</td>\n      <td>8.72</td>\n      <td>0.0</td>\n      <td>0.0</td>\n      <td>10.0</td>\n      <td>0.0</td>\n      <td>3003.653644</td>\n      <td>2400.00</td>\n      <td>0.00</td>\n      <td>0.0</td>\n    </tr>\n    <tr>\n      <th>3</th>\n      <td>1076863</td>\n      <td>1277178</td>\n      <td>10000.0</td>\n      <td>10000.0</td>\n      <td>36</td>\n      <td>13.49</td>\n      <td>339.31</td>\n      <td>3</td>\n      <td>11</td>\n      <td>11</td>\n      <td>...</td>\n      <td>4</td>\n      <td>20.00</td>\n      <td>0.0</td>\n      <td>35.0</td>\n      <td>37.0</td>\n      <td>0.0</td>\n      <td>12226.302212</td>\n      <td>10000.00</td>\n      <td>16.97</td>\n      <td>0.0</td>\n    </tr>\n    <tr>\n      <th>4</th>\n      <td>1075358</td>\n      <td>1311748</td>\n      <td>3000.0</td>\n      <td>3000.0</td>\n      <td>60</td>\n      <td>12.69</td>\n      <td>67.79</td>\n      <td>2</td>\n      <td>10</td>\n      <td>1</td>\n      <td>...</td>\n      <td>37</td>\n      <td>17.94</td>\n      <td>0.0</td>\n      <td>38.0</td>\n      <td>38.0</td>\n      <td>766.9</td>\n      <td>3242.170000</td>\n      <td>2233.10</td>\n      <td>0.00</td>\n      <td>0.0</td>\n    </tr>\n  </tbody>\n</table>\n<p>5 rows × 26 columns</p>\n</div>"
     },
     "execution_count": 51,
     "metadata": {},
     "output_type": "execute_result"
    }
   ],
   "source": [
    "for col in [\"purpose\", \"addr_state\"]:\n",
    "    le = LabelEncoder()\n",
    "    le.fit(df_indv[col])\n",
    "    df_indv[col] = le.transform(df_indv[col])\n",
    "df_indv.head()"
   ],
   "metadata": {
    "collapsed": false,
    "ExecuteTime": {
     "end_time": "2024-02-28T09:56:24.226174Z",
     "start_time": "2024-02-28T09:56:24.159907Z"
    }
   },
   "id": "e7bb392644f11ded"
  },
  {
   "cell_type": "code",
   "execution_count": 52,
   "outputs": [
    {
     "name": "stdout",
     "output_type": "stream",
     "text": [
      "<class 'pandas.core.frame.DataFrame'>\n",
      "Index: 886868 entries, 0 to 887378\n",
      "Data columns (total 26 columns):\n",
      " #   Column                  Non-Null Count   Dtype  \n",
      "---  ------                  --------------   -----  \n",
      " 0   id                      886868 non-null  int64  \n",
      " 1   member_id               886868 non-null  int64  \n",
      " 2   loan_amnt               886868 non-null  float64\n",
      " 3   funded_amnt             886868 non-null  float64\n",
      " 4   term                    886868 non-null  int64  \n",
      " 5   int_rate                886868 non-null  float64\n",
      " 6   installment             886868 non-null  float64\n",
      " 7   grade                   886868 non-null  int64  \n",
      " 8   sub_grade               886868 non-null  int64  \n",
      " 9   emp_length              886868 non-null  int64  \n",
      " 10  home_ownership          886868 non-null  int64  \n",
      " 11  annual_inc              886868 non-null  float64\n",
      " 12  verification_status     886868 non-null  int64  \n",
      " 13  loan_status             886868 non-null  int64  \n",
      " 14  pymnt_plan              886868 non-null  int64  \n",
      " 15  purpose                 886868 non-null  int64  \n",
      " 16  addr_state              886868 non-null  int64  \n",
      " 17  dti                     886868 non-null  float64\n",
      " 18  delinq_2yrs             886868 non-null  float64\n",
      " 19  mths_since_last_delinq  886868 non-null  float64\n",
      " 20  total_acc               886868 non-null  float64\n",
      " 21  out_prncp               886868 non-null  float64\n",
      " 22  total_pymnt             886868 non-null  float64\n",
      " 23  total_rec_prncp         886868 non-null  float64\n",
      " 24  total_rec_late_fee      886868 non-null  float64\n",
      " 25  acc_now_delinq          886868 non-null  float64\n",
      "dtypes: float64(14), int64(12)\n",
      "memory usage: 182.7 MB\n"
     ]
    }
   ],
   "source": [
    "df_indv.info()"
   ],
   "metadata": {
    "collapsed": false,
    "ExecuteTime": {
     "end_time": "2024-02-28T09:56:24.247859Z",
     "start_time": "2024-02-28T09:56:24.226056Z"
    }
   },
   "id": "20e61b644f1ea875"
  },
  {
   "cell_type": "code",
   "execution_count": 53,
   "outputs": [
    {
     "data": {
      "text/plain": "Index(['id', 'member_id', 'loan_amnt', 'funded_amnt', 'term', 'int_rate',\n       'installment', 'grade', 'sub_grade', 'emp_length', 'home_ownership',\n       'annual_inc', 'verification_status', 'loan_status', 'pymnt_plan',\n       'purpose', 'addr_state', 'dti', 'delinq_2yrs', 'mths_since_last_delinq',\n       'total_acc', 'out_prncp', 'total_pymnt', 'total_rec_prncp',\n       'total_rec_late_fee', 'acc_now_delinq'],\n      dtype='object')"
     },
     "execution_count": 53,
     "metadata": {},
     "output_type": "execute_result"
    }
   ],
   "source": [
    "df_indv.columns"
   ],
   "metadata": {
    "collapsed": false,
    "ExecuteTime": {
     "end_time": "2024-02-28T09:56:24.256731Z",
     "start_time": "2024-02-28T09:56:24.246114Z"
    }
   },
   "id": "7bc7c998fe884812"
  },
  {
   "cell_type": "code",
   "execution_count": 57,
   "outputs": [
    {
     "name": "stderr",
     "output_type": "stream",
     "text": [
      "/var/folders/97/w7m6hrnj5lldx6gxjw172mnm0000gn/T/ipykernel_60420/972597905.py:1: SettingWithCopyWarning: \n",
      "A value is trying to be set on a copy of a slice from a DataFrame\n",
      "\n",
      "See the caveats in the documentation: https://pandas.pydata.org/pandas-docs/stable/user_guide/indexing.html#returning-a-view-versus-a-copy\n",
      "  df_indv.rename(columns={'loan_status': 'default'}, inplace=True)\n"
     ]
    }
   ],
   "source": [
    "df_indv.rename(columns={'loan_status': 'default'}, inplace=True)"
   ],
   "metadata": {
    "collapsed": false,
    "ExecuteTime": {
     "end_time": "2024-02-28T10:00:38.263477Z",
     "start_time": "2024-02-28T10:00:38.248265Z"
    }
   },
   "id": "e939309ac938ee2d"
  },
  {
   "cell_type": "code",
   "execution_count": 58,
   "outputs": [],
   "source": [
    "columns = ['id', 'member_id', 'loan_amnt', 'funded_amnt', 'term', 'int_rate',\n",
    "           'installment', 'grade', 'sub_grade', 'emp_length', 'home_ownership',\n",
    "           'annual_inc', 'verification_status', 'pymnt_plan', 'purpose', \n",
    "           'addr_state', 'dti', 'delinq_2yrs', 'mths_since_last_delinq',\n",
    "           'total_acc', 'out_prncp', 'total_pymnt', 'total_rec_prncp',\n",
    "           'total_rec_late_fee', 'acc_now_delinq', 'default']\n",
    "\n",
    "df_indv = df_indv[columns]"
   ],
   "metadata": {
    "collapsed": false,
    "ExecuteTime": {
     "end_time": "2024-02-28T10:01:03.375499Z",
     "start_time": "2024-02-28T10:01:03.269807Z"
    }
   },
   "id": "de29ec08d9ac9531"
  },
  {
   "cell_type": "code",
   "execution_count": 59,
   "outputs": [],
   "source": [
    "df_indv.to_csv(\"cleaned_data.csv\")"
   ],
   "metadata": {
    "collapsed": false,
    "ExecuteTime": {
     "end_time": "2024-02-28T10:01:10.092892Z",
     "start_time": "2024-02-28T10:01:05.738486Z"
    }
   },
   "id": "67df68dc31fecfcc"
  }
 ],
 "metadata": {
  "kernelspec": {
   "display_name": "Python 3 (ipykernel)",
   "language": "python",
   "name": "python3"
  },
  "language_info": {
   "codemirror_mode": {
    "name": "ipython",
    "version": 3
   },
   "file_extension": ".py",
   "mimetype": "text/x-python",
   "name": "python",
   "nbconvert_exporter": "python",
   "pygments_lexer": "ipython3",
   "version": "3.10.9"
  }
 },
 "nbformat": 4,
 "nbformat_minor": 5
}
