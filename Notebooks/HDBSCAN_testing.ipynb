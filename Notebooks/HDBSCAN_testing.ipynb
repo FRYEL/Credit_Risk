{
 "cells": [
  {
   "cell_type": "code",
   "execution_count": 4,
   "id": "initial_id",
   "metadata": {
    "collapsed": true,
    "ExecuteTime": {
     "end_time": "2024-02-28T12:34:54.738307100Z",
     "start_time": "2024-02-28T12:34:54.698298Z"
    }
   },
   "outputs": [],
   "source": [
    "import pandas as pd\n",
    "import matplotlib.pyplot as plt\n",
    "import seaborn as sns\n",
    "from matplotlib.ticker import ScalarFormatter\n",
    "import numpy as np\n",
    "from sklearn.preprocessing import LabelEncoder\n",
    "import hdbscan\n",
    "from sklearn.preprocessing import StandardScaler, MinMaxScaler\n",
    "from sklearn.decomposition import PCA"
   ]
  },
  {
   "cell_type": "code",
   "execution_count": 5,
   "outputs": [],
   "source": [
    "X = pd.read_csv(\"../data/cleaned_data.csv\", low_memory = False)"
   ],
   "metadata": {
    "collapsed": false,
    "ExecuteTime": {
     "end_time": "2024-02-28T12:34:56.682816300Z",
     "start_time": "2024-02-28T12:34:54.703316900Z"
    }
   },
   "id": "8cc6a409b6d0d797"
  },
  {
   "cell_type": "markdown",
   "source": [
    "# Data Scaling"
   ],
   "metadata": {
    "collapsed": false
   },
   "id": "4d712894642cab4c"
  },
  {
   "cell_type": "code",
   "execution_count": 6,
   "outputs": [],
   "source": [
    "scaler = StandardScaler()\n",
    "scaled_X = scaler.fit_transform(X)"
   ],
   "metadata": {
    "collapsed": false,
    "ExecuteTime": {
     "end_time": "2024-02-28T12:34:57.188097100Z",
     "start_time": "2024-02-28T12:34:56.686817100Z"
    }
   },
   "id": "58dc95c80cac4d70"
  },
  {
   "cell_type": "markdown",
   "source": [
    "# HDBSCAN Test"
   ],
   "metadata": {
    "collapsed": false
   },
   "id": "af6877e5ff71dbde"
  },
  {
   "cell_type": "code",
   "execution_count": 7,
   "outputs": [],
   "source": [
    "hdb = hdbscan.HDBSCAN()"
   ],
   "metadata": {
    "collapsed": false,
    "ExecuteTime": {
     "end_time": "2024-02-28T12:34:57.200073400Z",
     "start_time": "2024-02-28T12:34:57.191063300Z"
    }
   },
   "id": "4c7c342b6f680c34"
  },
  {
   "cell_type": "code",
   "execution_count": null,
   "outputs": [],
   "source": [
    "cluster_labels = hdb.fit_predict(scaled_X)"
   ],
   "metadata": {
    "collapsed": false,
    "is_executing": true,
    "ExecuteTime": {
     "start_time": "2024-02-28T12:34:57.197074300Z"
    }
   },
   "id": "b35c8a00ce1d95a5"
  },
  {
   "cell_type": "markdown",
   "source": [
    "# PCA Vis"
   ],
   "metadata": {
    "collapsed": false
   },
   "id": "80f073e2ed20adca"
  },
  {
   "cell_type": "code",
   "execution_count": null,
   "outputs": [],
   "source": [
    "pca = PCA(n_components=2)\n",
    "pca.fit(scaled_X)\n",
    "X_pca = pca.transform(scaled_X)\n"
   ],
   "metadata": {
    "collapsed": false,
    "is_executing": true
   },
   "id": "24c87423f4335999"
  },
  {
   "cell_type": "code",
   "execution_count": null,
   "outputs": [],
   "source": [],
   "metadata": {
    "collapsed": false,
    "is_executing": true
   },
   "id": "569d91bb7b5d4fa2"
  }
 ],
 "metadata": {
  "kernelspec": {
   "display_name": "Python 3",
   "language": "python",
   "name": "python3"
  },
  "language_info": {
   "codemirror_mode": {
    "name": "ipython",
    "version": 2
   },
   "file_extension": ".py",
   "mimetype": "text/x-python",
   "name": "python",
   "nbconvert_exporter": "python",
   "pygments_lexer": "ipython2",
   "version": "2.7.6"
  }
 },
 "nbformat": 4,
 "nbformat_minor": 5
}
