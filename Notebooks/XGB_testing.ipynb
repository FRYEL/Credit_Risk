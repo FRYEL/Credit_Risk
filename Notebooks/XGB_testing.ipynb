{
 "cells": [
  {
   "cell_type": "code",
   "execution_count": 3,
   "id": "initial_id",
   "metadata": {
    "collapsed": true,
    "ExecuteTime": {
     "end_time": "2024-02-28T17:05:34.703346200Z",
     "start_time": "2024-02-28T17:05:34.685832700Z"
    }
   },
   "outputs": [],
   "source": [
    "import pandas as pd\n",
    "import xgboost as xgb\n",
    "from sklearn.datasets import load_iris\n",
    "from sklearn.model_selection import train_test_split\n",
    "from sklearn.metrics import accuracy_score"
   ]
  },
  {
   "cell_type": "code",
   "execution_count": 4,
   "outputs": [],
   "source": [
    "# Load the iris dataset\n",
    "df = pd.read_csv(\"../data/cleaned_data.csv\", low_memory = False)\n",
    "\n"
   ],
   "metadata": {
    "collapsed": false,
    "ExecuteTime": {
     "end_time": "2024-02-28T17:05:36.670360100Z",
     "start_time": "2024-02-28T17:05:34.852980900Z"
    }
   },
   "id": "aee23b4bbb78aa97"
  },
  {
   "cell_type": "code",
   "execution_count": 5,
   "outputs": [
    {
     "name": "stdout",
     "output_type": "stream",
     "text": [
      "Features (X):\n",
      "   Unnamed: 0       id  member_id  loan_amnt  funded_amnt  term  int_rate  \\\n",
      "0           0  1077501    1296599     5000.0       5000.0    36     10.65   \n",
      "1           1  1077430    1314167     2500.0       2500.0    60     15.27   \n",
      "2           2  1077175    1313524     2400.0       2400.0    36     15.96   \n",
      "3           3  1076863    1277178    10000.0      10000.0    36     13.49   \n",
      "4           4  1075358    1311748     3000.0       3000.0    60     12.69   \n",
      "\n",
      "   installment  grade  sub_grade  ...  addr_state    dti  delinq_2yrs  \\\n",
      "0       162.87      2          7  ...           3  27.65          0.0   \n",
      "1        59.83      3         14  ...          10   1.00          0.0   \n",
      "2        84.33      3         15  ...          14   8.72          0.0   \n",
      "3       339.31      3         11  ...           4  20.00          0.0   \n",
      "4        67.79      2         10  ...          37  17.94          0.0   \n",
      "\n",
      "   mths_since_last_delinq  total_acc  out_prncp   total_pymnt  \\\n",
      "0                     0.0        9.0        0.0   5861.071414   \n",
      "1                     0.0        4.0        0.0   1008.710000   \n",
      "2                     0.0       10.0        0.0   3003.653644   \n",
      "3                    35.0       37.0        0.0  12226.302212   \n",
      "4                    38.0       38.0      766.9   3242.170000   \n",
      "\n",
      "   total_rec_prncp  total_rec_late_fee  acc_now_delinq  \n",
      "0          5000.00                0.00             0.0  \n",
      "1           456.46                0.00             0.0  \n",
      "2          2400.00                0.00             0.0  \n",
      "3         10000.00               16.97             0.0  \n",
      "4          2233.10                0.00             0.0  \n",
      "\n",
      "[5 rows x 26 columns]\n",
      "\n",
      "Labels (y):\n",
      "0    0\n",
      "1    1\n",
      "2    0\n",
      "3    0\n",
      "4    0\n",
      "Name: default, dtype: int64\n"
     ]
    }
   ],
   "source": [
    "\n",
    "\n",
    "# Splitting the DataFrame into X (features) and y (labels)\n",
    "X = df.drop(columns=['default'])  # Drop the 'label' column to get the features\n",
    "y = df['default']  # Get only the 'label' column as the target variable\n",
    "\n",
    "# Printing the first few rows of X and y for verification\n",
    "print(\"Features (X):\")\n",
    "print(X.head())\n",
    "print(\"\\nLabels (y):\")\n",
    "print(y.head())\n"
   ],
   "metadata": {
    "collapsed": false,
    "ExecuteTime": {
     "end_time": "2024-02-28T17:06:05.173035800Z",
     "start_time": "2024-02-28T17:06:05.085322200Z"
    }
   },
   "id": "8d7f9759adfe8a88"
  },
  {
   "cell_type": "code",
   "execution_count": 6,
   "outputs": [],
   "source": [
    "# Split the dataset into training and testing sets\n",
    "X_train, X_test, y_train, y_test = train_test_split(X, y, test_size=0.2, random_state=42)"
   ],
   "metadata": {
    "collapsed": false,
    "ExecuteTime": {
     "end_time": "2024-02-28T17:06:11.319846600Z",
     "start_time": "2024-02-28T17:06:11.029419800Z"
    }
   },
   "id": "5be2722dd434fb99"
  },
  {
   "cell_type": "code",
   "execution_count": 7,
   "outputs": [],
   "source": [
    "# Define the XGBoost classifier\n",
    "clf = xgb.XGBClassifier()\n",
    "\n",
    "# Train the classifier\n",
    "clf.fit(X_train, y_train)\n",
    "\n",
    "# Make predictions on the test set\n",
    "y_pred = clf.predict(X_test)"
   ],
   "metadata": {
    "collapsed": false,
    "ExecuteTime": {
     "end_time": "2024-02-28T17:06:19.510993700Z",
     "start_time": "2024-02-28T17:06:15.737474700Z"
    }
   },
   "id": "fc314e039cfedaa5"
  },
  {
   "cell_type": "code",
   "execution_count": 8,
   "outputs": [
    {
     "name": "stdout",
     "output_type": "stream",
     "text": [
      "Accuracy: 0.989992896365871\n"
     ]
    }
   ],
   "source": [
    "# Calculate accuracy\n",
    "accuracy = accuracy_score(y_test, y_pred)\n",
    "print(\"Accuracy:\", accuracy)"
   ],
   "metadata": {
    "collapsed": false,
    "ExecuteTime": {
     "end_time": "2024-02-28T17:06:21.808429800Z",
     "start_time": "2024-02-28T17:06:21.786807500Z"
    }
   },
   "id": "36d906b875a6bd86"
  },
  {
   "cell_type": "code",
   "execution_count": null,
   "outputs": [],
   "source": [],
   "metadata": {
    "collapsed": false
   },
   "id": "688dc42685ffec68"
  }
 ],
 "metadata": {
  "kernelspec": {
   "display_name": "Python 3",
   "language": "python",
   "name": "python3"
  },
  "language_info": {
   "codemirror_mode": {
    "name": "ipython",
    "version": 2
   },
   "file_extension": ".py",
   "mimetype": "text/x-python",
   "name": "python",
   "nbconvert_exporter": "python",
   "pygments_lexer": "ipython2",
   "version": "2.7.6"
  }
 },
 "nbformat": 4,
 "nbformat_minor": 5
}
