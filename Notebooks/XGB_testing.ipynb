{
 "cells": [
  {
   "cell_type": "code",
   "execution_count": 1,
   "id": "initial_id",
   "metadata": {
    "collapsed": true,
    "ExecuteTime": {
     "end_time": "2024-03-13T05:38:01.227102300Z",
     "start_time": "2024-03-13T05:37:59.132952500Z"
    }
   },
   "outputs": [],
   "source": [
    "import pandas as pd\n",
    "import xgboost as xgb\n",
    "from sklearn.datasets import load_iris\n",
    "from sklearn.model_selection import train_test_split\n",
    "from sklearn.metrics import accuracy_score\n",
    "import mlflow"
   ]
  },
  {
   "cell_type": "code",
   "execution_count": 2,
   "outputs": [],
   "source": [
    "# Load the iris dataset\n",
    "df = pd.read_csv(\"../data/cleaned_data.csv\", low_memory = False)\n",
    "\n"
   ],
   "metadata": {
    "collapsed": false,
    "ExecuteTime": {
     "end_time": "2024-03-13T05:38:03.290269600Z",
     "start_time": "2024-03-13T05:38:01.225103200Z"
    }
   },
   "id": "aee23b4bbb78aa97"
  },
  {
   "cell_type": "code",
   "execution_count": 3,
   "outputs": [],
   "source": [
    "#mlflow.set_tracking_uri(\"http://127.0.0.1:5000\")"
   ],
   "metadata": {
    "collapsed": false,
    "ExecuteTime": {
     "end_time": "2024-03-13T05:38:03.301714400Z",
     "start_time": "2024-03-13T05:38:03.291271800Z"
    }
   },
   "id": "341bb7e248902418"
  },
  {
   "cell_type": "code",
   "execution_count": 4,
   "outputs": [],
   "source": [
    "#mlflow.set_experiment(\"check-localhost-connection\")\n",
    "\n",
    "#with mlflow.start_run():\n",
    " #   mlflow.log_metric(\"foo\", 1)\n",
    " #   mlflow.log_metric(\"bar\", 2)"
   ],
   "metadata": {
    "collapsed": false,
    "ExecuteTime": {
     "end_time": "2024-03-13T05:38:03.314234900Z",
     "start_time": "2024-03-13T05:38:03.296013600Z"
    }
   },
   "id": "183b4af4661a7e2d"
  },
  {
   "cell_type": "code",
   "execution_count": 5,
   "outputs": [
    {
     "name": "stdout",
     "output_type": "stream",
     "text": [
      "Features (X):\n",
      "        id  member_id  loan_amnt  funded_amnt  term  int_rate  installment  \\\n",
      "0  1077501    1296599     5000.0       5000.0    36     10.65       162.87   \n",
      "1  1077430    1314167     2500.0       2500.0    60     15.27        59.83   \n",
      "2  1077175    1313524     2400.0       2400.0    36     15.96        84.33   \n",
      "3  1076863    1277178    10000.0      10000.0    36     13.49       339.31   \n",
      "4  1075358    1311748     3000.0       3000.0    60     12.69        67.79   \n",
      "\n",
      "   grade  sub_grade  emp_length  ...  addr_state    dti  delinq_2yrs  \\\n",
      "0      2          7          11  ...           3  27.65          0.0   \n",
      "1      3         14           0  ...          10   1.00          0.0   \n",
      "2      3         15          11  ...          14   8.72          0.0   \n",
      "3      3         11          11  ...           4  20.00          0.0   \n",
      "4      2         10           1  ...          37  17.94          0.0   \n",
      "\n",
      "   mths_since_last_delinq  total_acc  out_prncp   total_pymnt  \\\n",
      "0                     0.0        9.0        0.0   5861.071414   \n",
      "1                     0.0        4.0        0.0   1008.710000   \n",
      "2                     0.0       10.0        0.0   3003.653644   \n",
      "3                    35.0       37.0        0.0  12226.302212   \n",
      "4                    38.0       38.0      766.9   3242.170000   \n",
      "\n",
      "   total_rec_prncp  total_rec_late_fee  acc_now_delinq  \n",
      "0          5000.00                0.00             0.0  \n",
      "1           456.46                0.00             0.0  \n",
      "2          2400.00                0.00             0.0  \n",
      "3         10000.00               16.97             0.0  \n",
      "4          2233.10                0.00             0.0  \n",
      "\n",
      "[5 rows x 25 columns]\n",
      "\n",
      "Labels (y):\n",
      "0    0\n",
      "1    1\n",
      "2    0\n",
      "3    0\n",
      "4    0\n",
      "Name: default, dtype: int64\n"
     ]
    }
   ],
   "source": [
    "\n",
    "\n",
    "# Splitting the DataFrame into X (features) and y (labels)\n",
    "X = df.drop(columns=['default'])  # Drop the 'label' column to get the features\n",
    "y = df['default']  # Get only the 'label' column as the target variable\n",
    "\n",
    "# Printing the first few rows of X and y for verification\n",
    "print(\"Features (X):\")\n",
    "print(X.head())\n",
    "print(\"\\nLabels (y):\")\n",
    "print(y.head())\n"
   ],
   "metadata": {
    "collapsed": false,
    "ExecuteTime": {
     "end_time": "2024-03-13T05:38:03.419624Z",
     "start_time": "2024-03-13T05:38:03.306234200Z"
    }
   },
   "id": "8d7f9759adfe8a88"
  },
  {
   "cell_type": "code",
   "execution_count": 6,
   "outputs": [],
   "source": [
    "# Split the dataset into training and testing sets\n",
    "X_train, X_test, y_train, y_test = train_test_split(X, y, test_size=0.2, random_state=42)"
   ],
   "metadata": {
    "collapsed": false,
    "ExecuteTime": {
     "end_time": "2024-03-13T05:38:03.769958800Z",
     "start_time": "2024-03-13T05:38:03.419624Z"
    }
   },
   "id": "5be2722dd434fb99"
  },
  {
   "cell_type": "code",
   "execution_count": 7,
   "outputs": [],
   "source": [
    "# Define the XGBoost classifier\n",
    "clf = xgb.XGBClassifier()\n",
    "\n",
    "# Train the classifier\n",
    "clf.fit(X_train, y_train)\n",
    "\n",
    "# Make predictions on the test set\n",
    "y_pred = clf.predict(X_test)"
   ],
   "metadata": {
    "collapsed": false,
    "ExecuteTime": {
     "end_time": "2024-03-13T05:38:07.578436600Z",
     "start_time": "2024-03-13T05:38:03.769958800Z"
    }
   },
   "id": "fc314e039cfedaa5"
  },
  {
   "cell_type": "code",
   "execution_count": 8,
   "outputs": [
    {
     "name": "stdout",
     "output_type": "stream",
     "text": [
      "Accuracy: 0.9863395988138058\n"
     ]
    }
   ],
   "source": [
    "# Calculate accuracy\n",
    "accuracy = accuracy_score(y_test, y_pred)\n",
    "print(\"Accuracy:\", accuracy)"
   ],
   "metadata": {
    "collapsed": false,
    "ExecuteTime": {
     "end_time": "2024-03-13T05:38:07.610719800Z",
     "start_time": "2024-03-13T05:38:07.579438500Z"
    }
   },
   "id": "36d906b875a6bd86"
  },
  {
   "cell_type": "code",
   "execution_count": 9,
   "outputs": [
    {
     "name": "stderr",
     "output_type": "stream",
     "text": [
      "C:\\Users\\furka\\PycharmProjects\\Credit_Risk\\venv\\Lib\\site-packages\\xgboost\\sklearn.py:889: UserWarning: `eval_metric` in `fit` method is deprecated for better compatibility with scikit-learn, use `eval_metric` in constructor or`set_params` instead.\n",
      "  warnings.warn(\n",
      "C:\\Users\\furka\\PycharmProjects\\Credit_Risk\\venv\\Lib\\site-packages\\xgboost\\sklearn.py:889: UserWarning: `early_stopping_rounds` in `fit` method is deprecated for better compatibility with scikit-learn, use `early_stopping_rounds` in constructor or`set_params` instead.\n",
      "  warnings.warn(\n"
     ]
    },
    {
     "name": "stdout",
     "output_type": "stream",
     "text": [
      "[0]\tvalidation_0-auc:0.94690\n",
      "[1]\tvalidation_0-auc:0.94854\n",
      "[2]\tvalidation_0-auc:0.95243\n",
      "[3]\tvalidation_0-auc:0.95263\n",
      "[4]\tvalidation_0-auc:0.95359\n",
      "[5]\tvalidation_0-auc:0.95473\n",
      "[6]\tvalidation_0-auc:0.95716\n",
      "[7]\tvalidation_0-auc:0.95881\n",
      "[8]\tvalidation_0-auc:0.96102\n",
      "[9]\tvalidation_0-auc:0.96164\n",
      "[10]\tvalidation_0-auc:0.96253\n",
      "[11]\tvalidation_0-auc:0.96382\n",
      "[12]\tvalidation_0-auc:0.96482\n",
      "[13]\tvalidation_0-auc:0.96539\n",
      "[14]\tvalidation_0-auc:0.96600\n",
      "[15]\tvalidation_0-auc:0.96651\n",
      "[16]\tvalidation_0-auc:0.96749\n",
      "[17]\tvalidation_0-auc:0.96863\n",
      "[18]\tvalidation_0-auc:0.96884\n",
      "[19]\tvalidation_0-auc:0.96912\n",
      "[20]\tvalidation_0-auc:0.97005\n",
      "[21]\tvalidation_0-auc:0.97149\n",
      "[22]\tvalidation_0-auc:0.97210\n",
      "[23]\tvalidation_0-auc:0.97250\n",
      "[24]\tvalidation_0-auc:0.97297\n",
      "[25]\tvalidation_0-auc:0.97428\n",
      "[26]\tvalidation_0-auc:0.97479\n",
      "[27]\tvalidation_0-auc:0.97544\n",
      "[28]\tvalidation_0-auc:0.97573\n",
      "[29]\tvalidation_0-auc:0.97592\n",
      "[30]\tvalidation_0-auc:0.97632\n",
      "[31]\tvalidation_0-auc:0.97665\n",
      "[32]\tvalidation_0-auc:0.97706\n",
      "[33]\tvalidation_0-auc:0.97715\n",
      "[34]\tvalidation_0-auc:0.97758\n",
      "[35]\tvalidation_0-auc:0.97793\n",
      "[36]\tvalidation_0-auc:0.97818\n",
      "[37]\tvalidation_0-auc:0.97909\n",
      "[38]\tvalidation_0-auc:0.97942\n",
      "[39]\tvalidation_0-auc:0.97959\n",
      "[40]\tvalidation_0-auc:0.97983\n",
      "[41]\tvalidation_0-auc:0.97996\n",
      "[42]\tvalidation_0-auc:0.98012\n",
      "[43]\tvalidation_0-auc:0.98185\n",
      "[44]\tvalidation_0-auc:0.98298\n",
      "[45]\tvalidation_0-auc:0.98391\n",
      "[46]\tvalidation_0-auc:0.98464\n",
      "[47]\tvalidation_0-auc:0.98507\n",
      "[48]\tvalidation_0-auc:0.98568\n",
      "[49]\tvalidation_0-auc:0.98613\n",
      "[50]\tvalidation_0-auc:0.98647\n",
      "[51]\tvalidation_0-auc:0.98688\n",
      "[52]\tvalidation_0-auc:0.98723\n",
      "[53]\tvalidation_0-auc:0.98761\n",
      "[54]\tvalidation_0-auc:0.98778\n",
      "[55]\tvalidation_0-auc:0.98798\n",
      "[56]\tvalidation_0-auc:0.98811\n",
      "[57]\tvalidation_0-auc:0.98838\n",
      "[58]\tvalidation_0-auc:0.98851\n",
      "[59]\tvalidation_0-auc:0.98877\n",
      "[60]\tvalidation_0-auc:0.98887\n",
      "[61]\tvalidation_0-auc:0.98913\n",
      "[62]\tvalidation_0-auc:0.98930\n",
      "[63]\tvalidation_0-auc:0.98953\n",
      "[64]\tvalidation_0-auc:0.98958\n",
      "[65]\tvalidation_0-auc:0.98981\n",
      "[66]\tvalidation_0-auc:0.98993\n",
      "[67]\tvalidation_0-auc:0.99005\n",
      "[68]\tvalidation_0-auc:0.99009\n",
      "[69]\tvalidation_0-auc:0.99031\n",
      "[70]\tvalidation_0-auc:0.99042\n",
      "[71]\tvalidation_0-auc:0.99054\n",
      "[72]\tvalidation_0-auc:0.99059\n",
      "[73]\tvalidation_0-auc:0.99066\n",
      "[74]\tvalidation_0-auc:0.99076\n",
      "[75]\tvalidation_0-auc:0.99079\n",
      "[76]\tvalidation_0-auc:0.99085\n",
      "[77]\tvalidation_0-auc:0.99092\n",
      "[78]\tvalidation_0-auc:0.99104\n",
      "[79]\tvalidation_0-auc:0.99109\n",
      "[80]\tvalidation_0-auc:0.99109\n",
      "[81]\tvalidation_0-auc:0.99119\n",
      "[82]\tvalidation_0-auc:0.99127\n",
      "[83]\tvalidation_0-auc:0.99130\n",
      "[84]\tvalidation_0-auc:0.99135\n",
      "[85]\tvalidation_0-auc:0.99139\n",
      "[86]\tvalidation_0-auc:0.99142\n",
      "[87]\tvalidation_0-auc:0.99141\n",
      "[88]\tvalidation_0-auc:0.99142\n",
      "[89]\tvalidation_0-auc:0.99148\n",
      "[90]\tvalidation_0-auc:0.99153\n",
      "[91]\tvalidation_0-auc:0.99160\n",
      "[92]\tvalidation_0-auc:0.99164\n",
      "[93]\tvalidation_0-auc:0.99166\n",
      "[94]\tvalidation_0-auc:0.99170\n",
      "[95]\tvalidation_0-auc:0.99170\n",
      "[96]\tvalidation_0-auc:0.99173\n",
      "[97]\tvalidation_0-auc:0.99180\n",
      "[98]\tvalidation_0-auc:0.99184\n",
      "[99]\tvalidation_0-auc:0.99184\n",
      "[100]\tvalidation_0-auc:0.99188\n",
      "[101]\tvalidation_0-auc:0.99189\n",
      "[102]\tvalidation_0-auc:0.99192\n",
      "[103]\tvalidation_0-auc:0.99191\n",
      "[104]\tvalidation_0-auc:0.99196\n",
      "[105]\tvalidation_0-auc:0.99197\n",
      "[106]\tvalidation_0-auc:0.99199\n",
      "[107]\tvalidation_0-auc:0.99198\n",
      "[108]\tvalidation_0-auc:0.99198\n",
      "[109]\tvalidation_0-auc:0.99200\n",
      "[110]\tvalidation_0-auc:0.99202\n",
      "[111]\tvalidation_0-auc:0.99203\n",
      "[112]\tvalidation_0-auc:0.99203\n",
      "[113]\tvalidation_0-auc:0.99205\n",
      "[114]\tvalidation_0-auc:0.99207\n",
      "[115]\tvalidation_0-auc:0.99208\n",
      "[116]\tvalidation_0-auc:0.99207\n",
      "[117]\tvalidation_0-auc:0.99209\n",
      "[118]\tvalidation_0-auc:0.99209\n",
      "[119]\tvalidation_0-auc:0.99209\n",
      "[120]\tvalidation_0-auc:0.99212\n",
      "[121]\tvalidation_0-auc:0.99213\n",
      "[122]\tvalidation_0-auc:0.99216\n",
      "[123]\tvalidation_0-auc:0.99216\n",
      "[124]\tvalidation_0-auc:0.99218\n",
      "[125]\tvalidation_0-auc:0.99218\n",
      "[126]\tvalidation_0-auc:0.99222\n",
      "[127]\tvalidation_0-auc:0.99224\n",
      "[128]\tvalidation_0-auc:0.99225\n",
      "[129]\tvalidation_0-auc:0.99225\n",
      "[130]\tvalidation_0-auc:0.99225\n",
      "[131]\tvalidation_0-auc:0.99226\n",
      "[132]\tvalidation_0-auc:0.99226\n",
      "[133]\tvalidation_0-auc:0.99226\n",
      "[134]\tvalidation_0-auc:0.99226\n",
      "[135]\tvalidation_0-auc:0.99226\n",
      "[136]\tvalidation_0-auc:0.99226\n",
      "[137]\tvalidation_0-auc:0.99226\n",
      "[138]\tvalidation_0-auc:0.99226\n",
      "[139]\tvalidation_0-auc:0.99226\n",
      "[140]\tvalidation_0-auc:0.99226\n",
      "[141]\tvalidation_0-auc:0.99226\n",
      "[142]\tvalidation_0-auc:0.99226\n",
      "[143]\tvalidation_0-auc:0.99226\n",
      "[144]\tvalidation_0-auc:0.99226\n",
      "[145]\tvalidation_0-auc:0.99226\n",
      "[146]\tvalidation_0-auc:0.99226\n",
      "[147]\tvalidation_0-auc:0.99226\n",
      "[148]\tvalidation_0-auc:0.99226\n",
      "[149]\tvalidation_0-auc:0.99226\n",
      "[150]\tvalidation_0-auc:0.99226\n",
      "[151]\tvalidation_0-auc:0.99226\n",
      "[152]\tvalidation_0-auc:0.99226\n",
      "[153]\tvalidation_0-auc:0.99226\n",
      "[154]\tvalidation_0-auc:0.99226\n",
      "[155]\tvalidation_0-auc:0.99226\n",
      "[156]\tvalidation_0-auc:0.99226\n",
      "[157]\tvalidation_0-auc:0.99226\n",
      "[158]\tvalidation_0-auc:0.99226\n",
      "[159]\tvalidation_0-auc:0.99226\n",
      "[160]\tvalidation_0-auc:0.99226\n",
      "[161]\tvalidation_0-auc:0.99226\n",
      "[162]\tvalidation_0-auc:0.99226\n",
      "[163]\tvalidation_0-auc:0.99226\n",
      "[164]\tvalidation_0-auc:0.99226\n",
      "[165]\tvalidation_0-auc:0.99226\n"
     ]
    }
   ],
   "source": [
    "eval_set=[(X_test, y_test)]\n",
    "clf2 = xgb.sklearn.XGBClassifier(\n",
    "    objective=\"binary:logistic\", \n",
    "    learning_rate=0.05, \n",
    "    seed=9616, \n",
    "    max_depth=20, \n",
    "    gamma=10, \n",
    "    n_estimators=500)\n",
    "\n",
    "clf2.fit(X_train, y_train, early_stopping_rounds=20, eval_metric=\"auc\", eval_set=eval_set, verbose=True)\n",
    "probabilities = clf2.predict_proba(X_test)\n",
    "positive_probabilities = probabilities[:, 1]"
   ],
   "metadata": {
    "collapsed": false,
    "ExecuteTime": {
     "end_time": "2024-03-13T05:38:22.290252700Z",
     "start_time": "2024-03-13T05:38:07.602721Z"
    }
   },
   "id": "688dc42685ffec68"
  },
  {
   "cell_type": "code",
   "execution_count": 12,
   "outputs": [
    {
     "data": {
      "text/plain": "array([0.02629075, 0.00968447, 0.01979605, ..., 0.01618096, 0.0015733 ,\n       0.00153594], dtype=float32)"
     },
     "execution_count": 12,
     "metadata": {},
     "output_type": "execute_result"
    }
   ],
   "source": [
    "probabilities = clf2.predict_proba(X_test)\n",
    "positive_probabilities = probabilities[:, 1]\n",
    "positive_probabilities"
   ],
   "metadata": {
    "collapsed": false,
    "ExecuteTime": {
     "end_time": "2024-03-13T05:40:28.195626400Z",
     "start_time": "2024-03-13T05:40:28.009278300Z"
    }
   },
   "id": "8a1e4086fb8efe2e"
  },
  {
   "cell_type": "code",
   "execution_count": null,
   "outputs": [],
   "source": [],
   "metadata": {
    "collapsed": false
   },
   "id": "e24a72d7c143637d"
  }
 ],
 "metadata": {
  "kernelspec": {
   "display_name": "Python 3",
   "language": "python",
   "name": "python3"
  },
  "language_info": {
   "codemirror_mode": {
    "name": "ipython",
    "version": 2
   },
   "file_extension": ".py",
   "mimetype": "text/x-python",
   "name": "python",
   "nbconvert_exporter": "python",
   "pygments_lexer": "ipython2",
   "version": "2.7.6"
  }
 },
 "nbformat": 4,
 "nbformat_minor": 5
}
