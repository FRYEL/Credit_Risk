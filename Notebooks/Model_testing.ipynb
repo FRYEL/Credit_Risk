{
 "cells": [
  {
   "cell_type": "code",
   "execution_count": null,
   "id": "initial_id",
   "metadata": {
    "collapsed": true
   },
   "outputs": [],
   "source": [
    "import pandas as pd\n",
    "from sklearn.model_selection import StratifiedShuffleSplit"
   ]
  },
  {
   "cell_type": "code",
   "outputs": [],
   "source": [
    "# Load the iris dataset\n",
    "df = pd.read_csv(\"../data/cleaned_data.csv\", low_memory = False)"
   ],
   "metadata": {
    "collapsed": false
   },
   "id": "adcdc505b32b08f4"
  },
  {
   "cell_type": "code",
   "outputs": [],
   "source": [
    "# Assuming your DataFrame is called df and the target column is 'target'\n",
    "# Replace 'target' with the name of your target column\n",
    "\n",
    "X = df.drop('loan_status', axis=1)  # Features\n",
    "y = df['loan_status']  # Target variable\n",
    "\n",
    "# Instantiate StratifiedShuffleSplit with n_splits=1\n",
    "sss = StratifiedShuffleSplit(n_splits=1, test_size=0.3, random_state=42)\n",
    "\n",
    "# Split data into train and test\n",
    "train_index, test_index = next(sss.split(X, y))\n",
    "X_train, X_test = X.iloc[train_index], X.iloc[test_index]\n",
    "y_train, y_test = y.iloc[train_index], y.iloc[test_index]\n",
    "\n",
    "# Further split test data into validation and test\n",
    "sss_val_test = StratifiedShuffleSplit(n_splits=1, test_size=0.5, random_state=42)\n",
    "val_index, test_index = next(sss_val_test.split(X_test, y_test))\n",
    "X_val, X_test = X_test.iloc[val_index], X_test.iloc[test_index]\n",
    "y_val, y_test = y_test.iloc[val_index], y_test.iloc[test_index]\n",
    "\n",
    "# Now you have X_train, y_train, X_val, y_val, X_test, y_test\n"
   ],
   "metadata": {
    "collapsed": false
   },
   "id": "7655b3b399c86f47"
  }
 ],
 "metadata": {
  "kernelspec": {
   "display_name": "Python 3",
   "language": "python",
   "name": "python3"
  },
  "language_info": {
   "codemirror_mode": {
    "name": "ipython",
    "version": 2
   },
   "file_extension": ".py",
   "mimetype": "text/x-python",
   "name": "python",
   "nbconvert_exporter": "python",
   "pygments_lexer": "ipython2",
   "version": "2.7.6"
  }
 },
 "nbformat": 4,
 "nbformat_minor": 5
}
