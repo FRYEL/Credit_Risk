{
 "cells": [
  {
   "cell_type": "code",
   "execution_count": 1,
   "id": "initial_id",
   "metadata": {
    "collapsed": true,
    "ExecuteTime": {
     "end_time": "2024-03-17T19:01:23.557677Z",
     "start_time": "2024-03-17T19:01:20.528887Z"
    }
   },
   "outputs": [],
   "source": [
    "import xgboost as xgb\n",
    "import pandas as pd\n",
    "import numpy as np\n",
    "from sklearn.model_selection import train_test_split\n",
    "from sklearn.metrics import roc_auc_score\n",
    "from skopt import BayesSearchCV\n",
    "import mlflow\n",
    "import mlflow.xgboost\n",
    "import matplotlib.pyplot as plt\n",
    "from sklearn.metrics import roc_curve\n",
    "from sklearn.model_selection import StratifiedShuffleSplit"
   ]
  },
  {
   "cell_type": "code",
   "outputs": [],
   "source": [
    "# Load the dataset\n",
    "df = pd.read_csv(\"../data/cleaned_data.csv\", low_memory = False)"
   ],
   "metadata": {
    "collapsed": false,
    "ExecuteTime": {
     "end_time": "2024-03-17T19:01:26.006687Z",
     "start_time": "2024-03-17T19:01:23.559685Z"
    }
   },
   "id": "adcdc505b32b08f4",
   "execution_count": 2
  },
  {
   "cell_type": "code",
   "outputs": [],
   "source": [
    "# Assuming your DataFrame is called df and the target column is 'target'\n",
    "# Replace 'target' with the name of your target column\n",
    "\n",
    "X = df.drop('loan_status', axis=1)  # Features\n",
    "y = df['loan_status']  # Target variable"
   ],
   "metadata": {
    "collapsed": false,
    "ExecuteTime": {
     "end_time": "2024-03-17T19:01:26.078877Z",
     "start_time": "2024-03-17T19:01:26.007696Z"
    }
   },
   "id": "7655b3b399c86f47",
   "execution_count": 3
  },
  {
   "cell_type": "code",
   "outputs": [],
   "source": [
    "# Instantiate StratifiedShuffleSplit with n_splits=1\n",
    "sss = StratifiedShuffleSplit(n_splits=1, test_size=0.3, random_state=42)\n",
    "\n",
    "# Split data into train and test\n",
    "train_index, test_index = next(sss.split(X, y))\n",
    "X_train, X_test = X.iloc[train_index], X.iloc[test_index]\n",
    "y_train, y_test = y.iloc[train_index], y.iloc[test_index]"
   ],
   "metadata": {
    "collapsed": false,
    "ExecuteTime": {
     "end_time": "2024-03-17T19:01:26.736514Z",
     "start_time": "2024-03-17T19:01:26.079884Z"
    }
   },
   "id": "2949b2592e864798",
   "execution_count": 4
  },
  {
   "cell_type": "code",
   "outputs": [],
   "source": [
    "# Further split test data into validation and test\n",
    "sss_val_test = StratifiedShuffleSplit(n_splits=1, test_size=0.5, random_state=42)\n",
    "val_index, test_index = next(sss_val_test.split(X_test, y_test))\n",
    "X_val, X_test = X_test.iloc[val_index], X_test.iloc[test_index]\n",
    "y_val, y_test = y_test.iloc[val_index], y_test.iloc[test_index]\n",
    "\n",
    "# Now you have X_train, y_train, X_val, y_val, X_test, y_test\n"
   ],
   "metadata": {
    "collapsed": false,
    "ExecuteTime": {
     "end_time": "2024-03-17T19:01:26.901865Z",
     "start_time": "2024-03-17T19:01:26.739521Z"
    }
   },
   "id": "544e3aaa66bf4e15",
   "execution_count": 5
  },
  {
   "cell_type": "code",
   "outputs": [],
   "source": [
    "eval_set = [(X_val, y_val)]"
   ],
   "metadata": {
    "collapsed": false,
    "ExecuteTime": {
     "end_time": "2024-03-17T19:01:26.906922Z",
     "start_time": "2024-03-17T19:01:26.902875Z"
    }
   },
   "id": "7636900ffcefbc46",
   "execution_count": 6
  },
  {
   "cell_type": "code",
   "outputs": [
    {
     "data": {
      "text/plain": "<Experiment: artifact_location='file:///C:/Users/furka/PycharmProjects/Credit_Risk/mlruns/389901588864882854', creation_time=1710623022464, experiment_id='389901588864882854', last_update_time=1710623022464, lifecycle_stage='active', name='XGBoost_Hyperparameter_Tuning', tags={}>"
     },
     "execution_count": 7,
     "metadata": {},
     "output_type": "execute_result"
    }
   ],
   "source": [
    "experiment_name = \"XGBoost_Hyperparameter_Tuning\"\n",
    "mlflow.set_tracking_uri(\"http://127.0.0.1:5000\")\n",
    "mlflow.set_experiment(experiment_name)"
   ],
   "metadata": {
    "collapsed": false,
    "ExecuteTime": {
     "end_time": "2024-03-17T19:01:26.975988Z",
     "start_time": "2024-03-17T19:01:26.907931Z"
    }
   },
   "id": "2846eb61b62708b4",
   "execution_count": 7
  },
  {
   "cell_type": "code",
   "outputs": [],
   "source": [
    "clf = xgb.sklearn.XGBClassifier(\n",
    "    objective=\"binary:logistic\",\n",
    "    seed=7777,\n",
    "    eval_metric='auc',\n",
    "    early_stopping_rounds=20)"
   ],
   "metadata": {
    "collapsed": false,
    "ExecuteTime": {
     "end_time": "2024-03-17T19:01:26.981271Z",
     "start_time": "2024-03-17T19:01:26.976997Z"
    }
   },
   "id": "fe9152bd79cecdfa",
   "execution_count": 8
  },
  {
   "cell_type": "code",
   "outputs": [],
   "source": [
    "param_space = {\n",
    "    \"learning_rate\": [0.01, 0.03, 0.04, 0.05, 0.1],\n",
    "    \"max_depth\": [ 5, 7, 8, 9, 10],\n",
    "    \"subsample\": [0.7, 0.8, 0.9],\n",
    "    \"colsample_bytree\": [0.7, 0.8, 0.9],\n",
    "    \"gamma\": [ 0.5, 0.75, 1],\n",
    "    \"n_estimators\": [300, 400, 500]\n",
    "    }"
   ],
   "metadata": {
    "collapsed": false,
    "ExecuteTime": {
     "end_time": "2024-03-17T19:01:26.989843Z",
     "start_time": "2024-03-17T19:01:26.982280Z"
    }
   },
   "id": "ac12b3175e1ecc4b",
   "execution_count": 9
  },
  {
   "cell_type": "code",
   "outputs": [],
   "source": [
    "bayes_search = BayesSearchCV(clf, search_spaces=param_space, n_iter=100, scoring='roc_auc', cv=5, verbose=1, n_jobs=-1)"
   ],
   "metadata": {
    "collapsed": false,
    "ExecuteTime": {
     "end_time": "2024-03-17T19:01:27.008228Z",
     "start_time": "2024-03-17T19:01:26.990866Z"
    }
   },
   "id": "812f6804e2a1767",
   "execution_count": 10
  },
  {
   "cell_type": "code",
   "outputs": [
    {
     "name": "stdout",
     "output_type": "stream",
     "text": [
      "Fitting 5 folds for each of 1 candidates, totalling 5 fits\n"
     ]
    }
   ],
   "source": [
    "with mlflow.start_run():\n",
    "    bayes_search.fit(X_train, y_train, eval_set=eval_set, verbose=True)\n",
    "\n",
    "    # Log parameters\n",
    "    for param, value in bayes_search.best_params_.items():\n",
    "        mlflow.log_param(param, value)\n",
    "\n",
    "    # Log metrics\n",
    "    mlflow.log_metric(\"best_roc_auc\", bayes_search.best_score_)\n",
    "\n",
    "    # Evaluate model on test set\n",
    "    y_pred_proba = bayes_search.predict_proba(X_test)[:, 1]\n",
    "    test_roc_auc = roc_auc_score(y_test, y_pred_proba)\n",
    "    mlflow.log_metric(\"test_roc_auc\", test_roc_auc)\n",
    "\n",
    "    feature_importance = bayes_search.best_estimator_.feature_importances_\n",
    "    for i, importance in enumerate(feature_importance):\n",
    "        mlflow.log_metric(f\"feature_{i}_importance\", importance)\n",
    "\n",
    "    # Log dataset\n",
    "    mlflow.log_artifact('data/cleaned_data.csv', artifact_path='datasets')\n",
    "\n",
    "    # Log model\n",
    "    mlflow.xgboost.log_model(bayes_search.best_estimator_, \"xgboost_model\")\n",
    "\n",
    "    # Prepare ROC AUC Curve\n",
    "    all_roc_auc_scores = bayes_search.cv_results_['mean_test_score']\n",
    "    \n",
    "    # Find the index of the top-performing model\n",
    "    best_index = np.argmax(all_roc_auc_scores)\n",
    "    best_params = bayes_search.cv_results_['params'][best_index]\n",
    "    best_roc_auc = all_roc_auc_scores[best_index]\n",
    "    \n",
    "    # Plot ROC curve for the best model\n",
    "    plt.figure(figsize=(10, 6))\n",
    "    model = xgb.sklearn.XGBClassifier(**best_params)\n",
    "    model.fit(X_train, y_train)\n",
    "    y_pred_proba = model.predict_proba(X_test)[:, 1]\n",
    "    fpr, tpr, _ = roc_curve(y_test, y_pred_proba)\n",
    "    plt.plot(fpr, tpr, label=f\"Best Model (AUC = {best_roc_auc:.2f})\")\n",
    "    \n",
    "    plt.plot([0, 1], [0, 1], linestyle='--', color='grey', label='Random')\n",
    "    plt.xlabel('False Positive Rate')\n",
    "    plt.ylabel('True Positive Rate')\n",
    "    plt.title('ROC Curve for Best Model')\n",
    "    plt.legend()\n",
    "    \n",
    "    # Save plot as image\n",
    "    plot_path = \"best_roc_curve_plot.png\"\n",
    "    plt.savefig(plot_path)\n",
    "    \n",
    "    # Log plot as artifact in MLflow\n",
    "    mlflow.log_artifact(plot_path, \"plots\")\n",
    "    \n",
    "    mlflow.end_run()"
   ],
   "metadata": {
    "collapsed": false,
    "is_executing": true,
    "ExecuteTime": {
     "start_time": "2024-03-17T19:01:27.009235Z"
    }
   },
   "id": "220ce1b744315e3e"
  }
 ],
 "metadata": {
  "kernelspec": {
   "display_name": "Python 3",
   "language": "python",
   "name": "python3"
  },
  "language_info": {
   "codemirror_mode": {
    "name": "ipython",
    "version": 2
   },
   "file_extension": ".py",
   "mimetype": "text/x-python",
   "name": "python",
   "nbconvert_exporter": "python",
   "pygments_lexer": "ipython2",
   "version": "2.7.6"
  }
 },
 "nbformat": 4,
 "nbformat_minor": 5
}
