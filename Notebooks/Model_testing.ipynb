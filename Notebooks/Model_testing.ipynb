{
 "cells": [
  {
   "cell_type": "code",
   "execution_count": 12,
   "id": "initial_id",
   "metadata": {
    "collapsed": true,
    "ExecuteTime": {
     "end_time": "2024-03-17T21:50:35.171081Z",
     "start_time": "2024-03-17T21:50:35.166569Z"
    }
   },
   "outputs": [],
   "source": [
    "import xgboost as xgb\n",
    "import pandas as pd\n",
    "import numpy as np\n",
    "from sklearn.model_selection import train_test_split\n",
    "from sklearn.metrics import roc_auc_score\n",
    "from skopt import BayesSearchCV\n",
    "import mlflow\n",
    "import mlflow.xgboost\n",
    "import matplotlib.pyplot as plt\n",
    "from sklearn.metrics import roc_curve\n",
    "from sklearn.model_selection import StratifiedShuffleSplit"
   ]
  },
  {
   "cell_type": "code",
   "outputs": [],
   "source": [
    "# Load the dataset\n",
    "df = pd.read_csv(\"../data/cleaned_data.csv\", low_memory = False)"
   ],
   "metadata": {
    "collapsed": false,
    "ExecuteTime": {
     "end_time": "2024-03-17T21:50:37.704524Z",
     "start_time": "2024-03-17T21:50:35.211118Z"
    }
   },
   "id": "adcdc505b32b08f4",
   "execution_count": 13
  },
  {
   "cell_type": "code",
   "outputs": [],
   "source": [
    "# Assuming your DataFrame is called df and the target column is 'target'\n",
    "# Replace 'target' with the name of your target column\n",
    "\n",
    "X = df.drop('loan_status', axis=1)  # Features\n",
    "y = df['loan_status']  # Target variable"
   ],
   "metadata": {
    "collapsed": false,
    "ExecuteTime": {
     "end_time": "2024-03-17T21:50:37.823633Z",
     "start_time": "2024-03-17T21:50:37.706532Z"
    }
   },
   "id": "7655b3b399c86f47",
   "execution_count": 14
  },
  {
   "cell_type": "code",
   "outputs": [],
   "source": [
    "# Instantiate StratifiedShuffleSplit with n_splits=1\n",
    "sss = StratifiedShuffleSplit(n_splits=1, test_size=0.3, random_state=42)\n",
    "\n",
    "# Split data into train and test\n",
    "train_index, test_index = next(sss.split(X, y))\n",
    "X_train, X_test = X.iloc[train_index], X.iloc[test_index]\n",
    "y_train, y_test = y.iloc[train_index], y.iloc[test_index]"
   ],
   "metadata": {
    "collapsed": false,
    "ExecuteTime": {
     "end_time": "2024-03-17T21:50:38.372797Z",
     "start_time": "2024-03-17T21:50:37.824640Z"
    }
   },
   "id": "2949b2592e864798",
   "execution_count": 15
  },
  {
   "cell_type": "code",
   "outputs": [],
   "source": [
    "# Further split test data into validation and test\n",
    "sss_val_test = StratifiedShuffleSplit(n_splits=1, test_size=0.5, random_state=42)\n",
    "val_index, test_index = next(sss_val_test.split(X_test, y_test))\n",
    "X_val, X_test = X_test.iloc[val_index], X_test.iloc[test_index]\n",
    "y_val, y_test = y_test.iloc[val_index], y_test.iloc[test_index]\n",
    "\n",
    "# Now you have X_train, y_train, X_val, y_val, X_test, y_test\n"
   ],
   "metadata": {
    "collapsed": false,
    "ExecuteTime": {
     "end_time": "2024-03-17T21:50:38.520537Z",
     "start_time": "2024-03-17T21:50:38.374804Z"
    }
   },
   "id": "544e3aaa66bf4e15",
   "execution_count": 16
  },
  {
   "cell_type": "code",
   "outputs": [],
   "source": [
    "eval_set = [(X_val, y_val)]"
   ],
   "metadata": {
    "collapsed": false,
    "ExecuteTime": {
     "end_time": "2024-03-17T21:50:38.527265Z",
     "start_time": "2024-03-17T21:50:38.521544Z"
    }
   },
   "id": "7636900ffcefbc46",
   "execution_count": 17
  },
  {
   "cell_type": "code",
   "outputs": [
    {
     "data": {
      "text/plain": "<Experiment: artifact_location='file:///C:/Users/furka/PycharmProjects/Credit_Risk/mlruns/389901588864882854', creation_time=1710623022464, experiment_id='389901588864882854', last_update_time=1710623022464, lifecycle_stage='active', name='XGBoost_Hyperparameter_Tuning', tags={}>"
     },
     "execution_count": 18,
     "metadata": {},
     "output_type": "execute_result"
    }
   ],
   "source": [
    "experiment_name = \"XGBoost_Hyperparameter_Tuning\"\n",
    "mlflow.set_tracking_uri(\"http://127.0.0.1:5000\")\n",
    "mlflow.set_experiment(experiment_name)"
   ],
   "metadata": {
    "collapsed": false,
    "ExecuteTime": {
     "end_time": "2024-03-17T21:50:38.562004Z",
     "start_time": "2024-03-17T21:50:38.528272Z"
    }
   },
   "id": "2846eb61b62708b4",
   "execution_count": 18
  },
  {
   "cell_type": "code",
   "outputs": [],
   "source": [
    "clf = xgb.sklearn.XGBClassifier(\n",
    "    objective=\"binary:logistic\",\n",
    "    seed=7777,\n",
    "    eval_metric='auc',\n",
    "    early_stopping_rounds=20)"
   ],
   "metadata": {
    "collapsed": false,
    "ExecuteTime": {
     "end_time": "2024-03-17T21:50:38.567044Z",
     "start_time": "2024-03-17T21:50:38.563015Z"
    }
   },
   "id": "fe9152bd79cecdfa",
   "execution_count": 19
  },
  {
   "cell_type": "code",
   "outputs": [],
   "source": [
    "param_space = {\n",
    "    \"learning_rate\": [0.01, 0.03, 0.04, 0.05, 0.1],\n",
    "    \"max_depth\": [ 5, 7, 8, 9, 10],\n",
    "    \"subsample\": [0.7, 0.8, 0.9],\n",
    "    \"colsample_bytree\": [0.7, 0.8, 0.9],\n",
    "    \"gamma\": [ 0.5, 0.75, 1],\n",
    "    \"n_estimators\": [300, 400, 500]\n",
    "    }"
   ],
   "metadata": {
    "collapsed": false,
    "ExecuteTime": {
     "end_time": "2024-03-17T21:50:38.576090Z",
     "start_time": "2024-03-17T21:50:38.568050Z"
    }
   },
   "id": "ac12b3175e1ecc4b",
   "execution_count": 20
  },
  {
   "cell_type": "code",
   "outputs": [],
   "source": [
    "bayes_search = BayesSearchCV(clf, search_spaces=param_space, n_iter=100, scoring='roc_auc', cv=5, verbose=1, n_jobs=-1)"
   ],
   "metadata": {
    "collapsed": false,
    "ExecuteTime": {
     "end_time": "2024-03-17T21:50:38.601285Z",
     "start_time": "2024-03-17T21:50:38.577098Z"
    }
   },
   "id": "812f6804e2a1767",
   "execution_count": 21
  },
  {
   "cell_type": "code",
   "outputs": [
    {
     "name": "stdout",
     "output_type": "stream",
     "text": [
      "Fitting 5 folds for each of 1 candidates, totalling 5 fits\n"
     ]
    }
   ],
   "source": [
    "with mlflow.start_run():\n",
    "    bayes_search.fit(X_train, y_train, eval_set=eval_set, verbose=True)\n",
    "\n",
    "    # Log parameters\n",
    "    for param, value in bayes_search.best_params_.items():\n",
    "        mlflow.log_param(param, value)\n",
    "\n",
    "    # Log metrics\n",
    "    mlflow.log_metric(\"best_roc_auc\", bayes_search.best_score_)\n",
    "\n",
    "    # Evaluate model on test set\n",
    "    y_pred_proba = bayes_search.predict_proba(X_test)[:, 1]\n",
    "    test_roc_auc = roc_auc_score(y_test, y_pred_proba)\n",
    "    mlflow.log_metric(\"test_roc_auc\", test_roc_auc)\n",
    "\n",
    "    feature_importance = bayes_search.best_estimator_.feature_importances_\n",
    "    for i, importance in enumerate(feature_importance):\n",
    "        mlflow.log_metric(f\"feature_{i}_importance\", importance)"
   ],
   "metadata": {
    "collapsed": false,
    "is_executing": true,
    "ExecuteTime": {
     "start_time": "2024-03-17T21:50:38.604293Z"
    }
   },
   "id": "220ce1b744315e3e",
   "execution_count": null
  },
  {
   "cell_type": "code",
   "outputs": [],
   "source": [
    "# Log dataset\n",
    "mlflow.log_artifact('../data/cleaned_data.csv', artifact_path='datasets')"
   ],
   "metadata": {
    "collapsed": false,
    "is_executing": true
   },
   "id": "dfb54d3121c4f9b8"
  },
  {
   "cell_type": "code",
   "outputs": [],
   "source": [
    "# Log model\n",
    "mlflow.xgboost.log_model(bayes_search.best_estimator_, \"xgboost_model\")"
   ],
   "metadata": {
    "collapsed": false,
    "is_executing": true
   },
   "id": "9437c7ff0a2292d"
  },
  {
   "cell_type": "markdown",
   "source": [
    "## ROC_AUC Curve plotting"
   ],
   "metadata": {
    "collapsed": false
   },
   "id": "71e190e9f6023bb1"
  },
  {
   "cell_type": "code",
   "outputs": [],
   "source": [
    "# Prepare ROC AUC Curve\n",
    "all_roc_auc_scores = bayes_search.cv_results_['mean_test_score']\n",
    "\n",
    "# Find the index of the top-performing model\n",
    "best_index = np.argmax(all_roc_auc_scores)\n",
    "best_params = bayes_search.cv_results_['params'][best_index]\n",
    "best_roc_auc = all_roc_auc_scores[best_index]\n",
    "\n",
    "# Plot ROC curve for the best model\n",
    "plt.figure(figsize=(10, 6))\n",
    "model = xgb.sklearn.XGBClassifier(**best_params)\n",
    "model.fit(X_train, y_train)\n",
    "y_pred_proba = model.predict_proba(X_test)[:, 1]\n",
    "fpr, tpr, _ = roc_curve(y_test, y_pred_proba)\n",
    "plt.plot(fpr, tpr, label=f\"Best Model (AUC = {best_roc_auc:.2f})\")\n",
    "\n",
    "plt.plot([0, 1], [0, 1], linestyle='--', color='grey', label='Random')\n",
    "plt.xlabel('False Positive Rate')\n",
    "plt.ylabel('True Positive Rate')\n",
    "plt.title('ROC Curve for Best Model')\n",
    "plt.legend()\n",
    "\n",
    "# Save plot as image\n",
    "plot_path = \"best_roc_curve_plot.png\"\n",
    "plt.savefig(plot_path)\n",
    "\n",
    "# Log plot as artifact in MLflow\n",
    "mlflow.log_artifact(plot_path, \"plots\")"
   ],
   "metadata": {
    "collapsed": false,
    "is_executing": true
   },
   "id": "c5637ebd20e14870"
  },
  {
   "cell_type": "markdown",
   "source": [
    "## Feature importance plotting"
   ],
   "metadata": {
    "collapsed": false
   },
   "id": "29310c30f5b07ba4"
  },
  {
   "cell_type": "code",
   "outputs": [],
   "source": [
    "feature_importance = bayes_search.best_estimator_.feature_importances_"
   ],
   "metadata": {
    "collapsed": false,
    "is_executing": true
   },
   "id": "60d7f9fa1bd802a0"
  },
  {
   "cell_type": "code",
   "outputs": [],
   "source": [
    "# Plot feature importance\n",
    "plt.figure(figsize=(10, 6))\n",
    "plt.bar(range(len(feature_importance)), feature_importance, tick_label=X.columns)\n",
    "plt.xlabel('Feature')\n",
    "plt.ylabel('Importance')\n",
    "plt.title('Feature Importance')\n",
    "\n",
    "# Save plot as image\n",
    "feature_importance_plot_path = \"feature_importance_plot.png\"\n",
    "plt.savefig(feature_importance_plot_path)\n",
    "\n",
    "# Log plot as artifact in MLflow\n",
    "mlflow.log_artifact(feature_importance_plot_path, \"plots\")\n",
    "\n",
    "# Close plot\n",
    "plt.close()"
   ],
   "metadata": {
    "collapsed": false,
    "is_executing": true
   },
   "id": "6a55b981ef7901e1"
  },
  {
   "cell_type": "code",
   "outputs": [],
   "source": [],
   "metadata": {
    "collapsed": false,
    "is_executing": true
   },
   "id": "97c57385db341318"
  },
  {
   "cell_type": "code",
   "outputs": [],
   "source": [
    "mlflow.end_run()"
   ],
   "metadata": {
    "collapsed": false,
    "is_executing": true
   },
   "id": "fa274cefb2685e7e"
  }
 ],
 "metadata": {
  "kernelspec": {
   "display_name": "Python 3",
   "language": "python",
   "name": "python3"
  },
  "language_info": {
   "codemirror_mode": {
    "name": "ipython",
    "version": 2
   },
   "file_extension": ".py",
   "mimetype": "text/x-python",
   "name": "python",
   "nbconvert_exporter": "python",
   "pygments_lexer": "ipython2",
   "version": "2.7.6"
  }
 },
 "nbformat": 4,
 "nbformat_minor": 5
}
