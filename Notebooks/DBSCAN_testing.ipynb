{
 "cells": [
  {
   "cell_type": "code",
   "execution_count": 4,
   "id": "initial_id",
   "metadata": {
    "collapsed": true,
    "ExecuteTime": {
     "end_time": "2024-02-29T09:04:30.311294Z",
     "start_time": "2024-02-29T09:04:30.307261Z"
    }
   },
   "outputs": [],
   "source": [
    "import pandas as pd\n",
    "import matplotlib.pyplot as plt\n",
    "import seaborn as sns\n",
    "from matplotlib.ticker import ScalarFormatter\n",
    "import numpy as np\n",
    "from sklearn.preprocessing import LabelEncoder\n",
    "import hdbscan\n",
    "from sklearn.preprocessing import StandardScaler, MinMaxScaler\n",
    "from sklearn.decomposition import PCA\n",
    "import plotly.graph_objects as go\n",
    "from sklearn.cluster import  DBSCAN\n",
    "from parameter_tuner import tune_min_samples_parameter, tune_epsilon_parameter"
   ]
  },
  {
   "cell_type": "code",
   "execution_count": 5,
   "outputs": [],
   "source": [
    "X = pd.read_csv(\"../data/cleaned_data.csv\", low_memory=False)"
   ],
   "metadata": {
    "collapsed": false,
    "ExecuteTime": {
     "end_time": "2024-02-29T09:04:31.973320Z",
     "start_time": "2024-02-29T09:04:30.610557Z"
    }
   },
   "id": "3b97f1f58687c9bc"
  },
  {
   "cell_type": "code",
   "execution_count": 6,
   "outputs": [],
   "source": [
    "scaler = StandardScaler()\n",
    "scaled_X = scaler.fit_transform(X)"
   ],
   "metadata": {
    "collapsed": false,
    "ExecuteTime": {
     "end_time": "2024-02-29T09:04:32.259256Z",
     "start_time": "2024-02-29T09:04:31.976442Z"
    }
   },
   "id": "9ccca34a2720ad7e"
  },
  {
   "cell_type": "code",
   "execution_count": null,
   "outputs": [
    {
     "name": "stderr",
     "output_type": "stream",
     "text": [
      "2024-02-29 10:04:32,258 INFO -- Tuning hyper parameters\n"
     ]
    }
   ],
   "source": [
    "tune_min_samples_parameter(scaled_X)"
   ],
   "metadata": {
    "collapsed": false,
    "is_executing": true,
    "ExecuteTime": {
     "start_time": "2024-02-29T09:04:32.259025Z"
    }
   },
   "id": "29fc87c207a171d3"
  },
  {
   "cell_type": "code",
   "execution_count": null,
   "outputs": [],
   "source": [
    "tune_epsilon_parameter(scaled_X)"
   ],
   "metadata": {
    "collapsed": false,
    "is_executing": true
   },
   "id": "1efa42e832064058"
  },
  {
   "cell_type": "code",
   "execution_count": null,
   "outputs": [],
   "source": [
    "model = DBSCAN()\n",
    "labels = model.fit_predict(scaled_X)"
   ],
   "metadata": {
    "collapsed": false,
    "is_executing": true,
    "ExecuteTime": {
     "start_time": "2024-02-29T08:52:59.668934Z"
    }
   },
   "id": "cb1baf26b66c5fcd"
  },
  {
   "cell_type": "code",
   "execution_count": null,
   "outputs": [],
   "source": [],
   "metadata": {
    "collapsed": false
   },
   "id": "dfe7f24089db23af"
  }
 ],
 "metadata": {
  "kernelspec": {
   "display_name": "Python 3",
   "language": "python",
   "name": "python3"
  },
  "language_info": {
   "codemirror_mode": {
    "name": "ipython",
    "version": 2
   },
   "file_extension": ".py",
   "mimetype": "text/x-python",
   "name": "python",
   "nbconvert_exporter": "python",
   "pygments_lexer": "ipython2",
   "version": "2.7.6"
  }
 },
 "nbformat": 4,
 "nbformat_minor": 5
}
