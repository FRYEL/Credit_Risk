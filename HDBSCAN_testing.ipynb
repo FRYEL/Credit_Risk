{
 "cells": [
  {
   "cell_type": "code",
   "execution_count": 2,
   "id": "initial_id",
   "metadata": {
    "collapsed": true,
    "ExecuteTime": {
     "end_time": "2024-02-28T08:00:54.671159Z",
     "start_time": "2024-02-28T08:00:53.585164Z"
    }
   },
   "outputs": [],
   "source": [
    "import pandas as pd\n",
    "import matplotlib.pyplot as plt\n",
    "import seaborn as sns\n",
    "from matplotlib.ticker import ScalarFormatter\n",
    "import numpy as np\n",
    "from sklearn.preprocessing import LabelEncoder\n",
    "import hdbscan\n",
    "from sklearn.preprocessing import StandardScaler, MinMaxScaler\n",
    "from sklearn.decomposition import PCA"
   ]
  },
  {
   "cell_type": "code",
   "execution_count": 2,
   "outputs": [],
   "source": [
    "X = pd.read_csv(\"cleaned_data.csv\", low_memory = False)"
   ],
   "metadata": {
    "collapsed": false,
    "ExecuteTime": {
     "end_time": "2024-02-27T23:42:17.134651500Z",
     "start_time": "2024-02-27T23:42:14.893970400Z"
    }
   },
   "id": "8cc6a409b6d0d797"
  },
  {
   "cell_type": "markdown",
   "source": [
    "# Data Scaling"
   ],
   "metadata": {
    "collapsed": false
   },
   "id": "4d712894642cab4c"
  },
  {
   "cell_type": "code",
   "execution_count": 4,
   "outputs": [],
   "source": [
    "scaler = StandardScaler()\n",
    "scaled_X = scaler.fit_transform(X)"
   ],
   "metadata": {
    "collapsed": false,
    "ExecuteTime": {
     "end_time": "2024-02-27T23:42:27.849920Z",
     "start_time": "2024-02-27T23:42:27.247669100Z"
    }
   },
   "id": "58dc95c80cac4d70"
  },
  {
   "cell_type": "markdown",
   "source": [
    "# HDBSCAN Test"
   ],
   "metadata": {
    "collapsed": false
   },
   "id": "af6877e5ff71dbde"
  },
  {
   "cell_type": "code",
   "execution_count": 5,
   "outputs": [],
   "source": [
    "hdb = hdbscan.HDBSCAN()"
   ],
   "metadata": {
    "collapsed": false,
    "ExecuteTime": {
     "end_time": "2024-02-27T23:42:28.474819200Z",
     "start_time": "2024-02-27T23:42:28.469808400Z"
    }
   },
   "id": "4c7c342b6f680c34"
  },
  {
   "cell_type": "code",
   "execution_count": 6,
   "outputs": [],
   "source": [
    "cluster_labels = hdb.fit_predict(scaled_X)"
   ],
   "metadata": {
    "collapsed": false,
    "ExecuteTime": {
     "end_time": "2024-02-28T02:50:45.083088Z",
     "start_time": "2024-02-27T23:42:29.772495400Z"
    }
   },
   "id": "b35c8a00ce1d95a5"
  },
  {
   "cell_type": "markdown",
   "source": [
    "# PCA Vis"
   ],
   "metadata": {
    "collapsed": false
   },
   "id": "80f073e2ed20adca"
  },
  {
   "cell_type": "code",
   "execution_count": 4,
   "outputs": [
    {
     "ename": "NameError",
     "evalue": "name 'scaled_X' is not defined",
     "output_type": "error",
     "traceback": [
      "\u001B[0;31m---------------------------------------------------------------------------\u001B[0m",
      "\u001B[0;31mNameError\u001B[0m                                 Traceback (most recent call last)",
      "Cell \u001B[0;32mIn[4], line 2\u001B[0m\n\u001B[1;32m      1\u001B[0m pca \u001B[38;5;241m=\u001B[39m PCA(n_components\u001B[38;5;241m=\u001B[39m\u001B[38;5;241m2\u001B[39m)\n\u001B[0;32m----> 2\u001B[0m pca\u001B[38;5;241m.\u001B[39mfit(\u001B[43mscaled_X\u001B[49m)\n\u001B[1;32m      3\u001B[0m X_pca \u001B[38;5;241m=\u001B[39m pca\u001B[38;5;241m.\u001B[39mtransform(scaled_X)\n",
      "\u001B[0;31mNameError\u001B[0m: name 'scaled_X' is not defined"
     ]
    }
   ],
   "source": [
    "pca = PCA(n_components=2)\n",
    "pca.fit(scaled_X)\n",
    "X_pca = pca.transform(scaled_X)\n"
   ],
   "metadata": {
    "collapsed": false,
    "ExecuteTime": {
     "end_time": "2024-02-28T08:01:49.761894Z",
     "start_time": "2024-02-28T08:01:49.744494Z"
    }
   },
   "id": "24c87423f4335999"
  },
  {
   "cell_type": "code",
   "execution_count": null,
   "outputs": [],
   "source": [],
   "metadata": {
    "collapsed": false
   },
   "id": "569d91bb7b5d4fa2"
  }
 ],
 "metadata": {
  "kernelspec": {
   "display_name": "Python 3",
   "language": "python",
   "name": "python3"
  },
  "language_info": {
   "codemirror_mode": {
    "name": "ipython",
    "version": 2
   },
   "file_extension": ".py",
   "mimetype": "text/x-python",
   "name": "python",
   "nbconvert_exporter": "python",
   "pygments_lexer": "ipython2",
   "version": "2.7.6"
  }
 },
 "nbformat": 4,
 "nbformat_minor": 5
}
