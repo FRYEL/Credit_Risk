{
 "cells": [
  {
   "cell_type": "code",
   "execution_count": 1,
   "id": "initial_id",
   "metadata": {
    "collapsed": true,
    "ExecuteTime": {
     "end_time": "2024-02-29T16:17:07.733137Z",
     "start_time": "2024-02-29T16:17:06.655389Z"
    }
   },
   "outputs": [],
   "source": [
    "import pandas as pd\n",
    "import matplotlib.pyplot as plt\n",
    "import seaborn as sns\n",
    "from matplotlib.ticker import ScalarFormatter\n",
    "import numpy as np\n",
    "from sklearn.preprocessing import LabelEncoder\n",
    "import hdbscan\n",
    "from sklearn.preprocessing import StandardScaler, MinMaxScaler\n",
    "from sklearn.decomposition import PCA\n",
    "import plotly.graph_objects as go\n",
    "from sklearn.cluster import  DBSCAN\n",
    "from utils.parameter_tuner import tune_min_samples_parameter, tune_epsilon_parameter"
   ]
  },
  {
   "cell_type": "code",
   "execution_count": 2,
   "outputs": [],
   "source": [
    "X = pd.read_csv(\"../data/cleaned_data.csv\", low_memory=False)"
   ],
   "metadata": {
    "collapsed": false,
    "ExecuteTime": {
     "end_time": "2024-02-29T16:17:08.822676Z",
     "start_time": "2024-02-29T16:17:07.730979Z"
    }
   },
   "id": "3b97f1f58687c9bc"
  },
  {
   "cell_type": "code",
   "execution_count": 3,
   "outputs": [],
   "source": [
    "scaler = StandardScaler()\n",
    "scaled_X = scaler.fit_transform(X)"
   ],
   "metadata": {
    "collapsed": false,
    "ExecuteTime": {
     "end_time": "2024-02-29T16:17:09.058668Z",
     "start_time": "2024-02-29T16:17:08.826241Z"
    }
   },
   "id": "9ccca34a2720ad7e"
  },
  {
   "cell_type": "code",
   "execution_count": null,
   "outputs": [
    {
     "name": "stderr",
     "output_type": "stream",
     "text": [
      "2024-02-29 17:17:09,057 INFO -- Tuning hyper parameters\n"
     ]
    }
   ],
   "source": [
    "tune_min_samples_parameter(scaled_X)"
   ],
   "metadata": {
    "collapsed": false,
    "is_executing": true,
    "ExecuteTime": {
     "start_time": "2024-02-29T16:17:09.058546Z"
    }
   },
   "id": "29fc87c207a171d3"
  },
  {
   "cell_type": "code",
   "execution_count": null,
   "outputs": [],
   "source": [
    "tune_epsilon_parameter(scaled_X)"
   ],
   "metadata": {
    "collapsed": false,
    "is_executing": true
   },
   "id": "1efa42e832064058"
  },
  {
   "cell_type": "code",
   "execution_count": null,
   "outputs": [],
   "source": [
    "model = DBSCAN()\n",
    "labels = model.fit_predict(scaled_X)"
   ],
   "metadata": {
    "collapsed": false,
    "is_executing": true,
    "ExecuteTime": {
     "start_time": "2024-02-29T08:52:59.668934Z"
    }
   },
   "id": "cb1baf26b66c5fcd"
  },
  {
   "cell_type": "code",
   "execution_count": null,
   "outputs": [],
   "source": [],
   "metadata": {
    "collapsed": false
   },
   "id": "dfe7f24089db23af"
  }
 ],
 "metadata": {
  "kernelspec": {
   "display_name": "Python 3",
   "language": "python",
   "name": "python3"
  },
  "language_info": {
   "codemirror_mode": {
    "name": "ipython",
    "version": 2
   },
   "file_extension": ".py",
   "mimetype": "text/x-python",
   "name": "python",
   "nbconvert_exporter": "python",
   "pygments_lexer": "ipython2",
   "version": "2.7.6"
  }
 },
 "nbformat": 4,
 "nbformat_minor": 5
}
